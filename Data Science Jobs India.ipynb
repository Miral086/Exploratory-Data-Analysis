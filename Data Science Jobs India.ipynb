{
 "cells": [
  {
   "cell_type": "markdown",
   "id": "c87f073e",
   "metadata": {
    "papermill": {
     "duration": 0.026014,
     "end_time": "2022-05-18T11:14:37.981137",
     "exception": false,
     "start_time": "2022-05-18T11:14:37.955123",
     "status": "completed"
    },
    "tags": []
   },
   "source": [
    "## 1. Introduction"
   ]
  },
  {
   "cell_type": "markdown",
   "id": "53fa2ffb",
   "metadata": {
    "papermill": {
     "duration": 0.024199,
     "end_time": "2022-05-18T11:14:38.029930",
     "exception": false,
     "start_time": "2022-05-18T11:14:38.005731",
     "status": "completed"
    },
    "tags": []
   },
   "source": [
    "**[Naukri.com](https://www.naukri.com/)** is an Indian **employment website** operating in India and Middle East.  Naukri was ranked No.1 by 9 independent sources, placing it way ahead of competition.Google Trends names Naukri “the most preferred job search destination in India”. \n",
    "\n",
    "In this project, first I web scraped **12,000** results obtained for '**data scientist**' job role in '**India**' from Naukri.com. The code can be accessed from my **[GitHub repository](https://github.com/anandhuh4899/Web-Scraping-Projects/blob/main/Data%20Science%20Jobs%20in%20India-%20Naukri/Data%20Science%20Jobs%20-%20Naukri.ipynb)**. This notebook deals with the exploratory data analysis of **[the scraped data](https://www.kaggle.com/datasets/anandhuh/data-science-jobs-in-india)**, using **interactive plots**."
   ]
  },
  {
   "cell_type": "markdown",
   "id": "d1d22ff5",
   "metadata": {
    "papermill": {
     "duration": 0.024017,
     "end_time": "2022-05-18T11:14:38.078880",
     "exception": false,
     "start_time": "2022-05-18T11:14:38.054863",
     "status": "completed"
    },
    "tags": []
   },
   "source": [
    "## 2. Import Libraries and Load Data"
   ]
  },
  {
   "cell_type": "code",
   "execution_count": 1,
   "id": "364dc4d5",
   "metadata": {
    "execution": {
     "iopub.execute_input": "2022-05-18T11:14:38.129290Z",
     "iopub.status.busy": "2022-05-18T11:14:38.128778Z",
     "iopub.status.idle": "2022-05-18T11:14:41.466543Z",
     "shell.execute_reply": "2022-05-18T11:14:41.465506Z"
    },
    "papermill": {
     "duration": 3.365935,
     "end_time": "2022-05-18T11:14:41.469461",
     "exception": false,
     "start_time": "2022-05-18T11:14:38.103526",
     "status": "completed"
    },
    "tags": []
   },
   "outputs": [],
   "source": [
    "# import libraries\n",
    "import re\n",
    "import pandas as pd\n",
    "\n",
    "import folium\n",
    "import seaborn as sns\n",
    "import plotly.express as px\n",
    "import matplotlib.pyplot as plt\n",
    "%matplotlib inline\n",
    "\n",
    "from nltk.probability import FreqDist"
   ]
  },
  {
   "cell_type": "code",
   "execution_count": 2,
   "id": "ce7ed786",
   "metadata": {
    "execution": {
     "iopub.execute_input": "2022-05-18T11:14:41.520311Z",
     "iopub.status.busy": "2022-05-18T11:14:41.519679Z",
     "iopub.status.idle": "2022-05-18T11:14:41.591962Z",
     "shell.execute_reply": "2022-05-18T11:14:41.591021Z"
    },
    "papermill": {
     "duration": 0.10073,
     "end_time": "2022-05-18T11:14:41.595186",
     "exception": false,
     "start_time": "2022-05-18T11:14:41.494456",
     "status": "completed"
    },
    "tags": []
   },
   "outputs": [
    {
     "name": "stdout",
     "output_type": "stream",
     "text": [
      "Successfully read file into Dataframe...\n"
     ]
    }
   ],
   "source": [
    "# load data\n",
    "df=pd.read_csv('../input/data-science-jobs-in-india/naukri_data_science_jobs_india.csv')\n",
    "print('Successfully read file into Dataframe...')"
   ]
  },
  {
   "cell_type": "code",
   "execution_count": 3,
   "id": "01fb2ef7",
   "metadata": {
    "execution": {
     "iopub.execute_input": "2022-05-18T11:14:41.649897Z",
     "iopub.status.busy": "2022-05-18T11:14:41.649244Z",
     "iopub.status.idle": "2022-05-18T11:14:41.678513Z",
     "shell.execute_reply": "2022-05-18T11:14:41.677577Z"
    },
    "papermill": {
     "duration": 0.060696,
     "end_time": "2022-05-18T11:14:41.681398",
     "exception": false,
     "start_time": "2022-05-18T11:14:41.620702",
     "status": "completed"
    },
    "scrolled": true,
    "tags": []
   },
   "outputs": [
    {
     "name": "stdout",
     "output_type": "stream",
     "text": [
      "<class 'pandas.core.frame.DataFrame'>\n",
      "RangeIndex: 12000 entries, 0 to 11999\n",
      "Data columns (total 5 columns):\n",
      " #   Column              Non-Null Count  Dtype \n",
      "---  ------              --------------  ----- \n",
      " 0   Job_Role            12000 non-null  object\n",
      " 1   Company             12000 non-null  object\n",
      " 2   Location            12000 non-null  object\n",
      " 3   Job Experience      12000 non-null  object\n",
      " 4   Skills/Description  12000 non-null  object\n",
      "dtypes: object(5)\n",
      "memory usage: 468.9+ KB\n"
     ]
    }
   ],
   "source": [
    "# concise summary of dataframe\n",
    "df.info()"
   ]
  },
  {
   "cell_type": "code",
   "execution_count": 4,
   "id": "7dd33eda",
   "metadata": {
    "execution": {
     "iopub.execute_input": "2022-05-18T11:14:41.732109Z",
     "iopub.status.busy": "2022-05-18T11:14:41.731522Z",
     "iopub.status.idle": "2022-05-18T11:14:41.736100Z",
     "shell.execute_reply": "2022-05-18T11:14:41.735526Z"
    },
    "papermill": {
     "duration": 0.032988,
     "end_time": "2022-05-18T11:14:41.738409",
     "exception": false,
     "start_time": "2022-05-18T11:14:41.705421",
     "status": "completed"
    },
    "tags": []
   },
   "outputs": [
    {
     "name": "stdout",
     "output_type": "stream",
     "text": [
      "Number of Rows: 12000\n",
      "Number of Columns: 5\n"
     ]
    }
   ],
   "source": [
    "# shape of dataframe\n",
    "print('Number of Rows: {}'.format(df.shape[0]))\n",
    "print('Number of Columns: {}'.format(df.shape[1]))"
   ]
  },
  {
   "cell_type": "code",
   "execution_count": 5,
   "id": "9e4312f1",
   "metadata": {
    "execution": {
     "iopub.execute_input": "2022-05-18T11:14:41.792944Z",
     "iopub.status.busy": "2022-05-18T11:14:41.792458Z",
     "iopub.status.idle": "2022-05-18T11:14:41.809240Z",
     "shell.execute_reply": "2022-05-18T11:14:41.808517Z"
    },
    "papermill": {
     "duration": 0.045358,
     "end_time": "2022-05-18T11:14:41.811887",
     "exception": false,
     "start_time": "2022-05-18T11:14:41.766529",
     "status": "completed"
    },
    "tags": []
   },
   "outputs": [
    {
     "data": {
      "text/html": [
       "<div>\n",
       "<style scoped>\n",
       "    .dataframe tbody tr th:only-of-type {\n",
       "        vertical-align: middle;\n",
       "    }\n",
       "\n",
       "    .dataframe tbody tr th {\n",
       "        vertical-align: top;\n",
       "    }\n",
       "\n",
       "    .dataframe thead th {\n",
       "        text-align: right;\n",
       "    }\n",
       "</style>\n",
       "<table border=\"1\" class=\"dataframe\">\n",
       "  <thead>\n",
       "    <tr style=\"text-align: right;\">\n",
       "      <th></th>\n",
       "      <th>Job_Role</th>\n",
       "      <th>Company</th>\n",
       "      <th>Location</th>\n",
       "      <th>Job Experience</th>\n",
       "      <th>Skills/Description</th>\n",
       "    </tr>\n",
       "  </thead>\n",
       "  <tbody>\n",
       "    <tr>\n",
       "      <th>0</th>\n",
       "      <td>Senior Data Scientist</td>\n",
       "      <td>UPL</td>\n",
       "      <td>Bangalore/Bengaluru, Mumbai (All Areas)</td>\n",
       "      <td>3-6</td>\n",
       "      <td>python, MLT, statistical modeling, machine lea...</td>\n",
       "    </tr>\n",
       "    <tr>\n",
       "      <th>1</th>\n",
       "      <td>Senior Data Scientist</td>\n",
       "      <td>Walmart</td>\n",
       "      <td>Bangalore/Bengaluru</td>\n",
       "      <td>5-9</td>\n",
       "      <td>Data Science, Machine learning, Python, Azure,...</td>\n",
       "    </tr>\n",
       "    <tr>\n",
       "      <th>2</th>\n",
       "      <td>Applied Data Scientist / ML Senior Engineer (P...</td>\n",
       "      <td>SAP India Pvt.Ltd</td>\n",
       "      <td>Bangalore/Bengaluru</td>\n",
       "      <td>5-10</td>\n",
       "      <td>Python, IT Skills, Testing, Cloud, Product Man...</td>\n",
       "    </tr>\n",
       "    <tr>\n",
       "      <th>3</th>\n",
       "      <td>Data Scientist</td>\n",
       "      <td>UPL</td>\n",
       "      <td>Bangalore/Bengaluru, Mumbai (All Areas)</td>\n",
       "      <td>1-4</td>\n",
       "      <td>python, machine learning, Data Science, data a...</td>\n",
       "    </tr>\n",
       "    <tr>\n",
       "      <th>4</th>\n",
       "      <td>Data Scientist</td>\n",
       "      <td>Walmart</td>\n",
       "      <td>Bangalore/Bengaluru</td>\n",
       "      <td>4-8</td>\n",
       "      <td>IT Skills, Python, Data Science, Machine Learn...</td>\n",
       "    </tr>\n",
       "  </tbody>\n",
       "</table>\n",
       "</div>"
      ],
      "text/plain": [
       "                                            Job_Role            Company  \\\n",
       "0                              Senior Data Scientist                UPL   \n",
       "1                              Senior Data Scientist            Walmart   \n",
       "2  Applied Data Scientist / ML Senior Engineer (P...  SAP India Pvt.Ltd   \n",
       "3                                     Data Scientist                UPL   \n",
       "4                                     Data Scientist            Walmart   \n",
       "\n",
       "                                  Location Job Experience  \\\n",
       "0  Bangalore/Bengaluru, Mumbai (All Areas)            3-6   \n",
       "1                      Bangalore/Bengaluru            5-9   \n",
       "2                      Bangalore/Bengaluru           5-10   \n",
       "3  Bangalore/Bengaluru, Mumbai (All Areas)            1-4   \n",
       "4                      Bangalore/Bengaluru            4-8   \n",
       "\n",
       "                                  Skills/Description  \n",
       "0  python, MLT, statistical modeling, machine lea...  \n",
       "1  Data Science, Machine learning, Python, Azure,...  \n",
       "2  Python, IT Skills, Testing, Cloud, Product Man...  \n",
       "3  python, machine learning, Data Science, data a...  \n",
       "4  IT Skills, Python, Data Science, Machine Learn...  "
      ]
     },
     "execution_count": 5,
     "metadata": {},
     "output_type": "execute_result"
    }
   ],
   "source": [
    "# first five rows\n",
    "df.head()"
   ]
  },
  {
   "cell_type": "code",
   "execution_count": 6,
   "id": "bc871fee",
   "metadata": {
    "execution": {
     "iopub.execute_input": "2022-05-18T11:14:41.863676Z",
     "iopub.status.busy": "2022-05-18T11:14:41.863106Z",
     "iopub.status.idle": "2022-05-18T11:14:41.867864Z",
     "shell.execute_reply": "2022-05-18T11:14:41.867308Z"
    },
    "papermill": {
     "duration": 0.033267,
     "end_time": "2022-05-18T11:14:41.870024",
     "exception": false,
     "start_time": "2022-05-18T11:14:41.836757",
     "status": "completed"
    },
    "tags": []
   },
   "outputs": [],
   "source": [
    "# user defined functions\n",
    "\n",
    "def MinExp(txt):\n",
    "    num = int(txt.split('-')[0])\n",
    "    return num\n",
    "\n",
    "def MaxExp(txt):\n",
    "    num = int(txt.split('-')[1])\n",
    "    return num\n",
    "\n",
    "def preprocess_location(loc):\n",
    "    loc=re.split('\\(', loc)[0].strip()\n",
    "    loc=re.sub('New Delhi','Delhi',loc)\n",
    "    return loc"
   ]
  },
  {
   "cell_type": "markdown",
   "id": "ef83fb12",
   "metadata": {
    "papermill": {
     "duration": 0.024594,
     "end_time": "2022-05-18T11:14:41.919551",
     "exception": false,
     "start_time": "2022-05-18T11:14:41.894957",
     "status": "completed"
    },
    "tags": []
   },
   "source": [
    "## 3. Exploratory Data Analysis"
   ]
  },
  {
   "cell_type": "markdown",
   "id": "de082e34",
   "metadata": {
    "papermill": {
     "duration": 0.024825,
     "end_time": "2022-05-18T11:14:41.969244",
     "exception": false,
     "start_time": "2022-05-18T11:14:41.944419",
     "status": "completed"
    },
    "tags": []
   },
   "source": [
    "### 3.1 Job Role"
   ]
  },
  {
   "cell_type": "code",
   "execution_count": 7,
   "id": "ede425b1",
   "metadata": {
    "execution": {
     "iopub.execute_input": "2022-05-18T11:14:42.021788Z",
     "iopub.status.busy": "2022-05-18T11:14:42.021280Z",
     "iopub.status.idle": "2022-05-18T11:14:42.092553Z",
     "shell.execute_reply": "2022-05-18T11:14:42.091533Z"
    },
    "papermill": {
     "duration": 0.1011,
     "end_time": "2022-05-18T11:14:42.094890",
     "exception": false,
     "start_time": "2022-05-18T11:14:41.993790",
     "status": "completed"
    },
    "tags": []
   },
   "outputs": [
    {
     "data": {
      "text/html": [
       "<style type=\"text/css\">\n",
       "#T_a0830_row0_col1 {\n",
       "  background-color: #000000;\n",
       "  color: #f1f1f1;\n",
       "}\n",
       "#T_a0830_row1_col1 {\n",
       "  background-color: #2c2c2c;\n",
       "  color: #f1f1f1;\n",
       "}\n",
       "#T_a0830_row2_col1 {\n",
       "  background-color: #878787;\n",
       "  color: #f1f1f1;\n",
       "}\n",
       "#T_a0830_row3_col1 {\n",
       "  background-color: #b4b4b4;\n",
       "  color: #000000;\n",
       "}\n",
       "#T_a0830_row4_col1, #T_a0830_row5_col1 {\n",
       "  background-color: #dadada;\n",
       "  color: #000000;\n",
       "}\n",
       "#T_a0830_row6_col1 {\n",
       "  background-color: #f9f9f9;\n",
       "  color: #000000;\n",
       "}\n",
       "#T_a0830_row7_col1 {\n",
       "  background-color: #fdfdfd;\n",
       "  color: #000000;\n",
       "}\n",
       "#T_a0830_row8_col1 {\n",
       "  background-color: #fefefe;\n",
       "  color: #000000;\n",
       "}\n",
       "#T_a0830_row9_col1 {\n",
       "  background-color: #ffffff;\n",
       "  color: #000000;\n",
       "}\n",
       "</style>\n",
       "<table id=\"T_a0830_\">\n",
       "  <thead>\n",
       "    <tr>\n",
       "      <th class=\"blank level0\" >&nbsp;</th>\n",
       "      <th class=\"col_heading level0 col0\" >Job Role</th>\n",
       "      <th class=\"col_heading level0 col1\" >Count</th>\n",
       "    </tr>\n",
       "  </thead>\n",
       "  <tbody>\n",
       "    <tr>\n",
       "      <th id=\"T_a0830_level0_row0\" class=\"row_heading level0 row0\" >0</th>\n",
       "      <td id=\"T_a0830_row0_col0\" class=\"data row0 col0\" >Data Engineer</td>\n",
       "      <td id=\"T_a0830_row0_col1\" class=\"data row0 col1\" >580</td>\n",
       "    </tr>\n",
       "    <tr>\n",
       "      <th id=\"T_a0830_level0_row1\" class=\"row_heading level0 row1\" >1</th>\n",
       "      <td id=\"T_a0830_row1_col0\" class=\"data row1 col0\" >Data Scientist</td>\n",
       "      <td id=\"T_a0830_row1_col1\" class=\"data row1 col1\" >505</td>\n",
       "    </tr>\n",
       "    <tr>\n",
       "      <th id=\"T_a0830_level0_row2\" class=\"row_heading level0 row2\" >2</th>\n",
       "      <td id=\"T_a0830_row2_col0\" class=\"data row2 col0\" >Data Analyst</td>\n",
       "      <td id=\"T_a0830_row2_col1\" class=\"data row2 col1\" >353</td>\n",
       "    </tr>\n",
       "    <tr>\n",
       "      <th id=\"T_a0830_level0_row3\" class=\"row_heading level0 row3\" >3</th>\n",
       "      <td id=\"T_a0830_row3_col0\" class=\"data row3 col0\" >Senior Technical Lead (Data Engineer)</td>\n",
       "      <td id=\"T_a0830_row3_col1\" class=\"data row3 col1\" >276</td>\n",
       "    </tr>\n",
       "    <tr>\n",
       "      <th id=\"T_a0830_level0_row4\" class=\"row_heading level0 row4\" >4</th>\n",
       "      <td id=\"T_a0830_row4_col0\" class=\"data row4 col0\" >Senior Data Engineer</td>\n",
       "      <td id=\"T_a0830_row4_col1\" class=\"data row4 col1\" >197</td>\n",
       "    </tr>\n",
       "    <tr>\n",
       "      <th id=\"T_a0830_level0_row5\" class=\"row_heading level0 row5\" >5</th>\n",
       "      <td id=\"T_a0830_row5_col0\" class=\"data row5 col0\" >Business Analyst</td>\n",
       "      <td id=\"T_a0830_row5_col1\" class=\"data row5 col1\" >197</td>\n",
       "    </tr>\n",
       "    <tr>\n",
       "      <th id=\"T_a0830_level0_row6\" class=\"row_heading level0 row6\" >6</th>\n",
       "      <td id=\"T_a0830_row6_col0\" class=\"data row6 col0\" >Senior Data Scientist</td>\n",
       "      <td id=\"T_a0830_row6_col1\" class=\"data row6 col1\" >97</td>\n",
       "    </tr>\n",
       "    <tr>\n",
       "      <th id=\"T_a0830_level0_row7\" class=\"row_heading level0 row7\" >7</th>\n",
       "      <td id=\"T_a0830_row7_col0\" class=\"data row7 col0\" >Azure Data Engineer</td>\n",
       "      <td id=\"T_a0830_row7_col1\" class=\"data row7 col1\" >80</td>\n",
       "    </tr>\n",
       "    <tr>\n",
       "      <th id=\"T_a0830_level0_row8\" class=\"row_heading level0 row8\" >8</th>\n",
       "      <td id=\"T_a0830_row8_col0\" class=\"data row8 col0\" >Data Engineer: Data Integration</td>\n",
       "      <td id=\"T_a0830_row8_col1\" class=\"data row8 col1\" >75</td>\n",
       "    </tr>\n",
       "    <tr>\n",
       "      <th id=\"T_a0830_level0_row9\" class=\"row_heading level0 row9\" >9</th>\n",
       "      <td id=\"T_a0830_row9_col0\" class=\"data row9 col0\" >Big Data Engineer</td>\n",
       "      <td id=\"T_a0830_row9_col1\" class=\"data row9 col1\" >71</td>\n",
       "    </tr>\n",
       "  </tbody>\n",
       "</table>\n"
      ],
      "text/plain": [
       "<pandas.io.formats.style.Styler at 0x7fc6bab25090>"
      ]
     },
     "execution_count": 7,
     "metadata": {},
     "output_type": "execute_result"
    }
   ],
   "source": [
    "# top 10 jobs\n",
    "job_10=df['Job_Role'].value_counts()[:10].rename_axis('Job Role').reset_index(name='Count')\n",
    "job_10.style.background_gradient(cmap='Greys')"
   ]
  },
  {
   "cell_type": "code",
   "execution_count": 8,
   "id": "d21e6279",
   "metadata": {
    "execution": {
     "iopub.execute_input": "2022-05-18T11:14:42.149300Z",
     "iopub.status.busy": "2022-05-18T11:14:42.148283Z",
     "iopub.status.idle": "2022-05-18T11:14:43.215530Z",
     "shell.execute_reply": "2022-05-18T11:14:43.214456Z"
    },
    "papermill": {
     "duration": 1.097409,
     "end_time": "2022-05-18T11:14:43.218035",
     "exception": false,
     "start_time": "2022-05-18T11:14:42.120626",
     "status": "completed"
    },
    "tags": []
   },
   "outputs": [
    {
     "data": {
      "text/html": [
       "        <script type=\"text/javascript\">\n",
       "        window.PlotlyConfig = {MathJaxConfig: 'local'};\n",
       "        if (window.MathJax && window.MathJax.Hub && window.MathJax.Hub.Config) {window.MathJax.Hub.Config({SVG: {font: \"STIX-Web\"}});}\n",
       "        if (typeof require !== 'undefined') {\n",
       "        require.undef(\"plotly\");\n",
       "        requirejs.config({\n",
       "            paths: {\n",
       "                'plotly': ['https://cdn.plot.ly/plotly-2.12.1.min']\n",
       "            }\n",
       "        });\n",
       "        require(['plotly'], function(Plotly) {\n",
       "            window._Plotly = Plotly;\n",
       "        });\n",
       "        }\n",
       "        </script>\n",
       "        "
      ]
     },
     "metadata": {},
     "output_type": "display_data"
    },
    {
     "data": {
      "text/html": [
       "<div>                            <div id=\"a5badc39-0c84-4d97-bc3d-c29981929c56\" class=\"plotly-graph-div\" style=\"height:720px; width:1080px;\"></div>            <script type=\"text/javascript\">                require([\"plotly\"], function(Plotly) {                    window.PLOTLYENV=window.PLOTLYENV || {};                                    if (document.getElementById(\"a5badc39-0c84-4d97-bc3d-c29981929c56\")) {                    Plotly.newPlot(                        \"a5badc39-0c84-4d97-bc3d-c29981929c56\",                        [{\"branchvalues\":\"total\",\"domain\":{\"x\":[0.0,1.0],\"y\":[0.0,1.0]},\"hovertemplate\":\"labels=%{label}<br>count=%{value}<br>parent=%{parent}<br>id=%{id}<extra></extra>\",\"ids\":[\"Azure Data Engineer/adf\",\"Big Data Engineer/agile\",\"Business Analyst/agile\",\"Senior Data Engineer/agile\",\"Senior Technical Lead (Data Engineer)/agile\",\"Business Analyst/analytical\",\"Data Analyst/analytical\",\"Data Scientist/analytical\",\"Big Data Engineer/aws\",\"Data Engineer/aws\",\"Senior Data Engineer/aws\",\"Senior Technical Lead (Data Engineer)/aws\",\"Azure Data Engineer/azure\",\"Data Engineer/azure\",\"Azure Data Engineer/azure data factory\",\"Azure Data Engineer/azure data lake\",\"Azure Data Engineer/azure databricks\",\"Big Data Engineer/big data\",\"Data Engineer/big data\",\"Senior Data Engineer/big data\",\"Senior Data Scientist/big data\",\"Business Analyst/business analysis\",\"Business Analyst/business analyst\",\"Business Analyst/business intelligence\",\"Data Engineer: Data Integration/business intelligence\",\"Data Engineer: Data Integration/business process\",\"Azure Data Engineer/cloud\",\"Data Engineer/cloud\",\"Senior Data Engineer/cloud\",\"Data Engineer: Data Integration/coding\",\"Senior Technical Lead (Data Engineer)/communication\",\"Data Engineer/computer science\",\"Data Scientist/computer science\",\"Senior Data Engineer/computer science\",\"Senior Data Scientist/computer science\",\"Senior Technical Lead (Data Engineer)/customer service\",\"Business Analyst/data analysis\",\"Data Analyst/data analysis\",\"Data Scientist/data analysis\",\"Senior Data Scientist/data analysis\",\"Data Analyst/data analyst\",\"Business Analyst/data analytics\",\"Data Engineer: Data Integration/data cleansing\",\"Business Analyst/data management\",\"Data Analyst/data mining\",\"Data Scientist/data mining\",\"Data Scientist/data science\",\"Senior Data Scientist/data science\",\"Data Scientist/data scientist\",\"Senior Data Scientist/data scientist\",\"Data Analyst/data visualization\",\"Data Engineer: Data Integration/datastage\",\"Senior Data Scientist/deep learning\",\"Senior Technical Lead (Data Engineer)/engineering services\",\"Data Engineer/etl\",\"Data Analyst/excel\",\"Big Data Engineer/hadoop\",\"Big Data Engineer/hive\",\"Data Engineer: Data Integration/interpersonal skills\",\"Big Data Engineer/java\",\"Data Engineer/java\",\"Senior Data Engineer/java\",\"Senior Technical Lead (Data Engineer)/java\",\"Senior Technical Lead (Data Engineer)/javascript\",\"Data Scientist/machine learning\",\"Senior Data Scientist/machine learning\",\"Data Engineer: Data Integration/mis\",\"Senior Data Scientist/neural networks\",\"Data Analyst/power bi\",\"Business Analyst/project management\",\"Azure Data Engineer/pyspark\",\"Azure Data Engineer/python\",\"Big Data Engineer/python\",\"Data Analyst/python\",\"Data Engineer/python\",\"Data Scientist/python\",\"Senior Data Engineer/python\",\"Senior Data Scientist/python\",\"Data Scientist/r\",\"Senior Technical Lead (Data Engineer)/san\",\"Azure Data Engineer/scala\",\"Big Data Engineer/scala\",\"Senior Data Engineer/scala\",\"Senior Technical Lead (Data Engineer)/selenium\",\"Azure Data Engineer/spark\",\"Big Data Engineer/spark\",\"Data Engineer/spark\",\"Senior Data Engineer/spark\",\"Big Data Engineer/sql\",\"Data Analyst/sql\",\"Data Engineer/sql\",\"Data Scientist/sql\",\"Senior Data Engineer/sql\",\"Senior Data Scientist/sql\",\"Data Analyst/tableau\",\"Business Analyst/testing\",\"Senior Technical Lead (Data Engineer)/testing\",\"Data Engineer: Data Integration/time management\",\"Data Engineer: Data Integration/unix\",\"Data Engineer: Data Integration/unix shell scripting\",\"Azure Data Engineer\",\"Big Data Engineer\",\"Business Analyst\",\"Data Analyst\",\"Data Engineer\",\"Data Engineer: Data Integration\",\"Data Scientist\",\"Senior Data Engineer\",\"Senior Data Scientist\",\"Senior Technical Lead (Data Engineer)\"],\"labels\":[\"adf\",\"agile\",\"agile\",\"agile\",\"agile\",\"analytical\",\"analytical\",\"analytical\",\"aws\",\"aws\",\"aws\",\"aws\",\"azure\",\"azure\",\"azure data factory\",\"azure data lake\",\"azure databricks\",\"big data\",\"big data\",\"big data\",\"big data\",\"business analysis\",\"business analyst\",\"business intelligence\",\"business intelligence\",\"business process\",\"cloud\",\"cloud\",\"cloud\",\"coding\",\"communication\",\"computer science\",\"computer science\",\"computer science\",\"computer science\",\"customer service\",\"data analysis\",\"data analysis\",\"data analysis\",\"data analysis\",\"data analyst\",\"data analytics\",\"data cleansing\",\"data management\",\"data mining\",\"data mining\",\"data science\",\"data science\",\"data scientist\",\"data scientist\",\"data visualization\",\"datastage\",\"deep learning\",\"engineering services\",\"etl\",\"excel\",\"hadoop\",\"hive\",\"interpersonal skills\",\"java\",\"java\",\"java\",\"java\",\"javascript\",\"machine learning\",\"machine learning\",\"mis\",\"neural networks\",\"power bi\",\"project management\",\"pyspark\",\"python\",\"python\",\"python\",\"python\",\"python\",\"python\",\"python\",\"r\",\"san\",\"scala\",\"scala\",\"scala\",\"selenium\",\"spark\",\"spark\",\"spark\",\"spark\",\"sql\",\"sql\",\"sql\",\"sql\",\"sql\",\"sql\",\"tableau\",\"testing\",\"testing\",\"time management\",\"unix\",\"unix shell scripting\",\"Azure Data Engineer\",\"Big Data Engineer\",\"Business Analyst\",\"Data Analyst\",\"Data Engineer\",\"Data Engineer: Data Integration\",\"Data Scientist\",\"Senior Data Engineer\",\"Senior Data Scientist\",\"Senior Technical Lead (Data Engineer)\"],\"name\":\"\",\"parents\":[\"Azure Data Engineer\",\"Big Data Engineer\",\"Business Analyst\",\"Senior Data Engineer\",\"Senior Technical Lead (Data Engineer)\",\"Business Analyst\",\"Data Analyst\",\"Data Scientist\",\"Big Data Engineer\",\"Data Engineer\",\"Senior Data Engineer\",\"Senior Technical Lead (Data Engineer)\",\"Azure Data Engineer\",\"Data Engineer\",\"Azure Data Engineer\",\"Azure Data Engineer\",\"Azure Data Engineer\",\"Big Data Engineer\",\"Data Engineer\",\"Senior Data Engineer\",\"Senior Data Scientist\",\"Business Analyst\",\"Business Analyst\",\"Business Analyst\",\"Data Engineer: Data Integration\",\"Data Engineer: Data Integration\",\"Azure Data Engineer\",\"Data Engineer\",\"Senior Data Engineer\",\"Data Engineer: Data Integration\",\"Senior Technical Lead (Data Engineer)\",\"Data Engineer\",\"Data Scientist\",\"Senior Data Engineer\",\"Senior Data Scientist\",\"Senior Technical Lead (Data Engineer)\",\"Business Analyst\",\"Data Analyst\",\"Data Scientist\",\"Senior Data Scientist\",\"Data Analyst\",\"Business Analyst\",\"Data Engineer: Data Integration\",\"Business Analyst\",\"Data Analyst\",\"Data Scientist\",\"Data Scientist\",\"Senior Data Scientist\",\"Data Scientist\",\"Senior Data Scientist\",\"Data Analyst\",\"Data Engineer: Data Integration\",\"Senior Data Scientist\",\"Senior Technical Lead (Data Engineer)\",\"Data Engineer\",\"Data Analyst\",\"Big Data Engineer\",\"Big Data Engineer\",\"Data Engineer: Data Integration\",\"Big Data Engineer\",\"Data Engineer\",\"Senior Data Engineer\",\"Senior Technical Lead (Data Engineer)\",\"Senior Technical Lead (Data Engineer)\",\"Data Scientist\",\"Senior Data Scientist\",\"Data Engineer: Data Integration\",\"Senior Data Scientist\",\"Data Analyst\",\"Business Analyst\",\"Azure Data Engineer\",\"Azure Data Engineer\",\"Big Data Engineer\",\"Data Analyst\",\"Data Engineer\",\"Data Scientist\",\"Senior Data Engineer\",\"Senior Data Scientist\",\"Data Scientist\",\"Senior Technical Lead (Data Engineer)\",\"Azure Data Engineer\",\"Big Data Engineer\",\"Senior Data Engineer\",\"Senior Technical Lead (Data Engineer)\",\"Azure Data Engineer\",\"Big Data Engineer\",\"Data Engineer\",\"Senior Data Engineer\",\"Big Data Engineer\",\"Data Analyst\",\"Data Engineer\",\"Data Scientist\",\"Senior Data Engineer\",\"Senior Data Scientist\",\"Data Analyst\",\"Business Analyst\",\"Senior Technical Lead (Data Engineer)\",\"Data Engineer: Data Integration\",\"Data Engineer: Data Integration\",\"Data Engineer: Data Integration\",\"\",\"\",\"\",\"\",\"\",\"\",\"\",\"\",\"\",\"\"],\"values\":[12,10,21,21,117,44,67,80,9,99,31,41,41,73,33,13,21,33,96,42,12,60,90,23,35,24,13,69,24,44,34,69,118,41,19,42,51,147,82,11,142,21,31,36,51,94,170,53,57,16,41,29,11,72,63,66,19,19,33,18,74,43,51,63,289,59,28,11,42,22,17,35,28,63,193,213,65,40,57,113,14,14,26,34,16,33,98,33,12,74,109,70,26,12,54,20,52,37,32,26,215,195,388,747,943,319,1230,352,244,619],\"type\":\"sunburst\"}],                        {\"template\":{\"data\":{\"histogram2dcontour\":[{\"type\":\"histogram2dcontour\",\"colorbar\":{\"outlinewidth\":0,\"ticks\":\"\"},\"colorscale\":[[0.0,\"#0d0887\"],[0.1111111111111111,\"#46039f\"],[0.2222222222222222,\"#7201a8\"],[0.3333333333333333,\"#9c179e\"],[0.4444444444444444,\"#bd3786\"],[0.5555555555555556,\"#d8576b\"],[0.6666666666666666,\"#ed7953\"],[0.7777777777777778,\"#fb9f3a\"],[0.8888888888888888,\"#fdca26\"],[1.0,\"#f0f921\"]]}],\"choropleth\":[{\"type\":\"choropleth\",\"colorbar\":{\"outlinewidth\":0,\"ticks\":\"\"}}],\"histogram2d\":[{\"type\":\"histogram2d\",\"colorbar\":{\"outlinewidth\":0,\"ticks\":\"\"},\"colorscale\":[[0.0,\"#0d0887\"],[0.1111111111111111,\"#46039f\"],[0.2222222222222222,\"#7201a8\"],[0.3333333333333333,\"#9c179e\"],[0.4444444444444444,\"#bd3786\"],[0.5555555555555556,\"#d8576b\"],[0.6666666666666666,\"#ed7953\"],[0.7777777777777778,\"#fb9f3a\"],[0.8888888888888888,\"#fdca26\"],[1.0,\"#f0f921\"]]}],\"heatmap\":[{\"type\":\"heatmap\",\"colorbar\":{\"outlinewidth\":0,\"ticks\":\"\"},\"colorscale\":[[0.0,\"#0d0887\"],[0.1111111111111111,\"#46039f\"],[0.2222222222222222,\"#7201a8\"],[0.3333333333333333,\"#9c179e\"],[0.4444444444444444,\"#bd3786\"],[0.5555555555555556,\"#d8576b\"],[0.6666666666666666,\"#ed7953\"],[0.7777777777777778,\"#fb9f3a\"],[0.8888888888888888,\"#fdca26\"],[1.0,\"#f0f921\"]]}],\"heatmapgl\":[{\"type\":\"heatmapgl\",\"colorbar\":{\"outlinewidth\":0,\"ticks\":\"\"},\"colorscale\":[[0.0,\"#0d0887\"],[0.1111111111111111,\"#46039f\"],[0.2222222222222222,\"#7201a8\"],[0.3333333333333333,\"#9c179e\"],[0.4444444444444444,\"#bd3786\"],[0.5555555555555556,\"#d8576b\"],[0.6666666666666666,\"#ed7953\"],[0.7777777777777778,\"#fb9f3a\"],[0.8888888888888888,\"#fdca26\"],[1.0,\"#f0f921\"]]}],\"contourcarpet\":[{\"type\":\"contourcarpet\",\"colorbar\":{\"outlinewidth\":0,\"ticks\":\"\"}}],\"contour\":[{\"type\":\"contour\",\"colorbar\":{\"outlinewidth\":0,\"ticks\":\"\"},\"colorscale\":[[0.0,\"#0d0887\"],[0.1111111111111111,\"#46039f\"],[0.2222222222222222,\"#7201a8\"],[0.3333333333333333,\"#9c179e\"],[0.4444444444444444,\"#bd3786\"],[0.5555555555555556,\"#d8576b\"],[0.6666666666666666,\"#ed7953\"],[0.7777777777777778,\"#fb9f3a\"],[0.8888888888888888,\"#fdca26\"],[1.0,\"#f0f921\"]]}],\"surface\":[{\"type\":\"surface\",\"colorbar\":{\"outlinewidth\":0,\"ticks\":\"\"},\"colorscale\":[[0.0,\"#0d0887\"],[0.1111111111111111,\"#46039f\"],[0.2222222222222222,\"#7201a8\"],[0.3333333333333333,\"#9c179e\"],[0.4444444444444444,\"#bd3786\"],[0.5555555555555556,\"#d8576b\"],[0.6666666666666666,\"#ed7953\"],[0.7777777777777778,\"#fb9f3a\"],[0.8888888888888888,\"#fdca26\"],[1.0,\"#f0f921\"]]}],\"mesh3d\":[{\"type\":\"mesh3d\",\"colorbar\":{\"outlinewidth\":0,\"ticks\":\"\"}}],\"scatter\":[{\"fillpattern\":{\"fillmode\":\"overlay\",\"size\":10,\"solidity\":0.2},\"type\":\"scatter\"}],\"parcoords\":[{\"type\":\"parcoords\",\"line\":{\"colorbar\":{\"outlinewidth\":0,\"ticks\":\"\"}}}],\"scatterpolargl\":[{\"type\":\"scatterpolargl\",\"marker\":{\"colorbar\":{\"outlinewidth\":0,\"ticks\":\"\"}}}],\"bar\":[{\"error_x\":{\"color\":\"#2a3f5f\"},\"error_y\":{\"color\":\"#2a3f5f\"},\"marker\":{\"line\":{\"color\":\"#E5ECF6\",\"width\":0.5},\"pattern\":{\"fillmode\":\"overlay\",\"size\":10,\"solidity\":0.2}},\"type\":\"bar\"}],\"scattergeo\":[{\"type\":\"scattergeo\",\"marker\":{\"colorbar\":{\"outlinewidth\":0,\"ticks\":\"\"}}}],\"scatterpolar\":[{\"type\":\"scatterpolar\",\"marker\":{\"colorbar\":{\"outlinewidth\":0,\"ticks\":\"\"}}}],\"histogram\":[{\"marker\":{\"pattern\":{\"fillmode\":\"overlay\",\"size\":10,\"solidity\":0.2}},\"type\":\"histogram\"}],\"scattergl\":[{\"type\":\"scattergl\",\"marker\":{\"colorbar\":{\"outlinewidth\":0,\"ticks\":\"\"}}}],\"scatter3d\":[{\"type\":\"scatter3d\",\"line\":{\"colorbar\":{\"outlinewidth\":0,\"ticks\":\"\"}},\"marker\":{\"colorbar\":{\"outlinewidth\":0,\"ticks\":\"\"}}}],\"scattermapbox\":[{\"type\":\"scattermapbox\",\"marker\":{\"colorbar\":{\"outlinewidth\":0,\"ticks\":\"\"}}}],\"scatterternary\":[{\"type\":\"scatterternary\",\"marker\":{\"colorbar\":{\"outlinewidth\":0,\"ticks\":\"\"}}}],\"scattercarpet\":[{\"type\":\"scattercarpet\",\"marker\":{\"colorbar\":{\"outlinewidth\":0,\"ticks\":\"\"}}}],\"carpet\":[{\"aaxis\":{\"endlinecolor\":\"#2a3f5f\",\"gridcolor\":\"white\",\"linecolor\":\"white\",\"minorgridcolor\":\"white\",\"startlinecolor\":\"#2a3f5f\"},\"baxis\":{\"endlinecolor\":\"#2a3f5f\",\"gridcolor\":\"white\",\"linecolor\":\"white\",\"minorgridcolor\":\"white\",\"startlinecolor\":\"#2a3f5f\"},\"type\":\"carpet\"}],\"table\":[{\"cells\":{\"fill\":{\"color\":\"#EBF0F8\"},\"line\":{\"color\":\"white\"}},\"header\":{\"fill\":{\"color\":\"#C8D4E3\"},\"line\":{\"color\":\"white\"}},\"type\":\"table\"}],\"barpolar\":[{\"marker\":{\"line\":{\"color\":\"#E5ECF6\",\"width\":0.5},\"pattern\":{\"fillmode\":\"overlay\",\"size\":10,\"solidity\":0.2}},\"type\":\"barpolar\"}],\"pie\":[{\"automargin\":true,\"type\":\"pie\"}]},\"layout\":{\"autotypenumbers\":\"strict\",\"colorway\":[\"#636efa\",\"#EF553B\",\"#00cc96\",\"#ab63fa\",\"#FFA15A\",\"#19d3f3\",\"#FF6692\",\"#B6E880\",\"#FF97FF\",\"#FECB52\"],\"font\":{\"color\":\"#2a3f5f\"},\"hovermode\":\"closest\",\"hoverlabel\":{\"align\":\"left\"},\"paper_bgcolor\":\"white\",\"plot_bgcolor\":\"#E5ECF6\",\"polar\":{\"bgcolor\":\"#E5ECF6\",\"angularaxis\":{\"gridcolor\":\"white\",\"linecolor\":\"white\",\"ticks\":\"\"},\"radialaxis\":{\"gridcolor\":\"white\",\"linecolor\":\"white\",\"ticks\":\"\"}},\"ternary\":{\"bgcolor\":\"#E5ECF6\",\"aaxis\":{\"gridcolor\":\"white\",\"linecolor\":\"white\",\"ticks\":\"\"},\"baxis\":{\"gridcolor\":\"white\",\"linecolor\":\"white\",\"ticks\":\"\"},\"caxis\":{\"gridcolor\":\"white\",\"linecolor\":\"white\",\"ticks\":\"\"}},\"coloraxis\":{\"colorbar\":{\"outlinewidth\":0,\"ticks\":\"\"}},\"colorscale\":{\"sequential\":[[0.0,\"#0d0887\"],[0.1111111111111111,\"#46039f\"],[0.2222222222222222,\"#7201a8\"],[0.3333333333333333,\"#9c179e\"],[0.4444444444444444,\"#bd3786\"],[0.5555555555555556,\"#d8576b\"],[0.6666666666666666,\"#ed7953\"],[0.7777777777777778,\"#fb9f3a\"],[0.8888888888888888,\"#fdca26\"],[1.0,\"#f0f921\"]],\"sequentialminus\":[[0.0,\"#0d0887\"],[0.1111111111111111,\"#46039f\"],[0.2222222222222222,\"#7201a8\"],[0.3333333333333333,\"#9c179e\"],[0.4444444444444444,\"#bd3786\"],[0.5555555555555556,\"#d8576b\"],[0.6666666666666666,\"#ed7953\"],[0.7777777777777778,\"#fb9f3a\"],[0.8888888888888888,\"#fdca26\"],[1.0,\"#f0f921\"]],\"diverging\":[[0,\"#8e0152\"],[0.1,\"#c51b7d\"],[0.2,\"#de77ae\"],[0.3,\"#f1b6da\"],[0.4,\"#fde0ef\"],[0.5,\"#f7f7f7\"],[0.6,\"#e6f5d0\"],[0.7,\"#b8e186\"],[0.8,\"#7fbc41\"],[0.9,\"#4d9221\"],[1,\"#276419\"]]},\"xaxis\":{\"gridcolor\":\"white\",\"linecolor\":\"white\",\"ticks\":\"\",\"title\":{\"standoff\":15},\"zerolinecolor\":\"white\",\"automargin\":true,\"zerolinewidth\":2},\"yaxis\":{\"gridcolor\":\"white\",\"linecolor\":\"white\",\"ticks\":\"\",\"title\":{\"standoff\":15},\"zerolinecolor\":\"white\",\"automargin\":true,\"zerolinewidth\":2},\"scene\":{\"xaxis\":{\"backgroundcolor\":\"#E5ECF6\",\"gridcolor\":\"white\",\"linecolor\":\"white\",\"showbackground\":true,\"ticks\":\"\",\"zerolinecolor\":\"white\",\"gridwidth\":2},\"yaxis\":{\"backgroundcolor\":\"#E5ECF6\",\"gridcolor\":\"white\",\"linecolor\":\"white\",\"showbackground\":true,\"ticks\":\"\",\"zerolinecolor\":\"white\",\"gridwidth\":2},\"zaxis\":{\"backgroundcolor\":\"#E5ECF6\",\"gridcolor\":\"white\",\"linecolor\":\"white\",\"showbackground\":true,\"ticks\":\"\",\"zerolinecolor\":\"white\",\"gridwidth\":2}},\"shapedefaults\":{\"line\":{\"color\":\"#2a3f5f\"}},\"annotationdefaults\":{\"arrowcolor\":\"#2a3f5f\",\"arrowhead\":0,\"arrowwidth\":1},\"geo\":{\"bgcolor\":\"white\",\"landcolor\":\"#E5ECF6\",\"subunitcolor\":\"white\",\"showland\":true,\"showlakes\":true,\"lakecolor\":\"white\"},\"title\":{\"x\":0.05},\"mapbox\":{\"style\":\"light\"}}},\"legend\":{\"tracegroupgap\":0},\"margin\":{\"t\":60},\"title\":{\"text\":\"Top Jobs and the Required Skills\",\"x\":0.5},\"autosize\":false,\"width\":1080,\"height\":720},                        {\"responsive\": true}                    ).then(function(){\n",
       "                            \n",
       "var gd = document.getElementById('a5badc39-0c84-4d97-bc3d-c29981929c56');\n",
       "var x = new MutationObserver(function (mutations, observer) {{\n",
       "        var display = window.getComputedStyle(gd).display;\n",
       "        if (!display || display === 'none') {{\n",
       "            console.log([gd, 'removed!']);\n",
       "            Plotly.purge(gd);\n",
       "            observer.disconnect();\n",
       "        }}\n",
       "}});\n",
       "\n",
       "// Listen for the removal of the full notebook cells\n",
       "var notebookContainer = gd.closest('#notebook-container');\n",
       "if (notebookContainer) {{\n",
       "    x.observe(notebookContainer, {childList: true});\n",
       "}}\n",
       "\n",
       "// Listen for the clearing of the current output cell\n",
       "var outputEl = gd.closest('.output');\n",
       "if (outputEl) {{\n",
       "    x.observe(outputEl, {childList: true});\n",
       "}}\n",
       "\n",
       "                        })                };                });            </script>        </div>"
      ]
     },
     "metadata": {},
     "output_type": "display_data"
    }
   ],
   "source": [
    "# plot\n",
    "dataframe = pd.DataFrame()\n",
    "\n",
    "for job in job_10['Job Role']:\n",
    "    df1 = df[df['Job_Role']==job]\n",
    "    skill = [skill.lower() for skills in df1['Skills/Description'] for skill in skills.split(', ') if skill != 'IT Skills']\n",
    "    fdist = FreqDist(skill)\n",
    "    fdist_df=pd.DataFrame(list(dict(fdist).items()), columns=['skill', 'count'])\n",
    "    fdist_df= fdist_df.sort_values(by='count', ascending=False)[:10]\n",
    "    fdist_df = fdist_df.assign(job=job)\n",
    "    dataframe=dataframe.append(fdist_df)\n",
    "    \n",
    "# Creating sunburst chart\n",
    "fig = px.sunburst(dataframe,\n",
    "                  path=['job', 'skill'],\n",
    "                  values='count'\n",
    "                 )\n",
    "\n",
    "fig.update_layout(\n",
    "    autosize=False,\n",
    "    title_text='Top Jobs and the Required Skills',\n",
    "    title_x=0.5,\n",
    "    width=1080,\n",
    "    height=720)\n",
    "\n",
    "# Display the figure\n",
    "fig.show()"
   ]
  },
  {
   "cell_type": "markdown",
   "id": "7bb9e881",
   "metadata": {
    "papermill": {
     "duration": 0.028151,
     "end_time": "2022-05-18T11:14:43.273525",
     "exception": false,
     "start_time": "2022-05-18T11:14:43.245374",
     "status": "completed"
    },
    "tags": []
   },
   "source": [
    "### 3.2 Location"
   ]
  },
  {
   "cell_type": "code",
   "execution_count": 9,
   "id": "eda8b9fc",
   "metadata": {
    "execution": {
     "iopub.execute_input": "2022-05-18T11:14:43.328486Z",
     "iopub.status.busy": "2022-05-18T11:14:43.328170Z",
     "iopub.status.idle": "2022-05-18T11:14:43.334684Z",
     "shell.execute_reply": "2022-05-18T11:14:43.334056Z"
    },
    "papermill": {
     "duration": 0.036505,
     "end_time": "2022-05-18T11:14:43.336642",
     "exception": false,
     "start_time": "2022-05-18T11:14:43.300137",
     "status": "completed"
    },
    "tags": []
   },
   "outputs": [
    {
     "data": {
      "text/plain": [
       "0    Bangalore/Bengaluru, Mumbai (All Areas)\n",
       "1                        Bangalore/Bengaluru\n",
       "2                        Bangalore/Bengaluru\n",
       "3    Bangalore/Bengaluru, Mumbai (All Areas)\n",
       "4                        Bangalore/Bengaluru\n",
       "5                        Bangalore/Bengaluru\n",
       "6                        Bangalore/Bengaluru\n",
       "7    Bangalore/Bengaluru, Mumbai (All Areas)\n",
       "8                        Bangalore/Bengaluru\n",
       "9                                    Chennai\n",
       "Name: Location, dtype: object"
      ]
     },
     "execution_count": 9,
     "metadata": {},
     "output_type": "execute_result"
    }
   ],
   "source": [
    "# values in location column\n",
    "df['Location'][:10]"
   ]
  },
  {
   "cell_type": "code",
   "execution_count": 10,
   "id": "2417f99a",
   "metadata": {
    "execution": {
     "iopub.execute_input": "2022-05-18T11:14:43.400651Z",
     "iopub.status.busy": "2022-05-18T11:14:43.399749Z",
     "iopub.status.idle": "2022-05-18T11:14:43.450269Z",
     "shell.execute_reply": "2022-05-18T11:14:43.449476Z"
    },
    "papermill": {
     "duration": 0.081022,
     "end_time": "2022-05-18T11:14:43.452519",
     "exception": false,
     "start_time": "2022-05-18T11:14:43.371497",
     "status": "completed"
    },
    "tags": []
   },
   "outputs": [
    {
     "data": {
      "text/html": [
       "<style type=\"text/css\">\n",
       "#T_d3570_row0_col1 {\n",
       "  background-color: #0b0405;\n",
       "  color: #f1f1f1;\n",
       "}\n",
       "#T_d3570_row1_col1 {\n",
       "  background-color: #3496a9;\n",
       "  color: #f1f1f1;\n",
       "}\n",
       "#T_d3570_row2_col1 {\n",
       "  background-color: #359baa;\n",
       "  color: #f1f1f1;\n",
       "}\n",
       "#T_d3570_row3_col1 {\n",
       "  background-color: #43baad;\n",
       "  color: #f1f1f1;\n",
       "}\n",
       "#T_d3570_row4_col1 {\n",
       "  background-color: #4fc5ad;\n",
       "  color: #000000;\n",
       "}\n",
       "#T_d3570_row5_col1 {\n",
       "  background-color: #52c7ad;\n",
       "  color: #000000;\n",
       "}\n",
       "#T_d3570_row6_col1 {\n",
       "  background-color: #99ddb6;\n",
       "  color: #000000;\n",
       "}\n",
       "#T_d3570_row7_col1 {\n",
       "  background-color: #b9e6c7;\n",
       "  color: #000000;\n",
       "}\n",
       "#T_d3570_row8_col1 {\n",
       "  background-color: #d8f2e0;\n",
       "  color: #000000;\n",
       "}\n",
       "#T_d3570_row9_col1 {\n",
       "  background-color: #def5e5;\n",
       "  color: #000000;\n",
       "}\n",
       "</style>\n",
       "<table id=\"T_d3570_\">\n",
       "  <thead>\n",
       "    <tr>\n",
       "      <th class=\"blank level0\" >&nbsp;</th>\n",
       "      <th class=\"col_heading level0 col0\" >location</th>\n",
       "      <th class=\"col_heading level0 col1\" >job openings</th>\n",
       "    </tr>\n",
       "  </thead>\n",
       "  <tbody>\n",
       "    <tr>\n",
       "      <th id=\"T_d3570_level0_row0\" class=\"row_heading level0 row0\" >17</th>\n",
       "      <td id=\"T_d3570_row0_col0\" class=\"data row0 col0\" >Bangalore</td>\n",
       "      <td id=\"T_d3570_row0_col1\" class=\"data row0 col1\" >4753</td>\n",
       "    </tr>\n",
       "    <tr>\n",
       "      <th id=\"T_d3570_level0_row1\" class=\"row_heading level0 row1\" >139</th>\n",
       "      <td id=\"T_d3570_row1_col0\" class=\"data row1 col0\" >Pune</td>\n",
       "      <td id=\"T_d3570_row1_col1\" class=\"data row1 col1\" >2047</td>\n",
       "    </tr>\n",
       "    <tr>\n",
       "      <th id=\"T_d3570_level0_row2\" class=\"row_heading level0 row2\" >73</th>\n",
       "      <td id=\"T_d3570_row2_col0\" class=\"data row2 col0\" >Hyderabad</td>\n",
       "      <td id=\"T_d3570_row2_col1\" class=\"data row2 col1\" >1960</td>\n",
       "    </tr>\n",
       "    <tr>\n",
       "      <th id=\"T_d3570_level0_row3\" class=\"row_heading level0 row3\" >116</th>\n",
       "      <td id=\"T_d3570_row3_col0\" class=\"data row3 col0\" >Mumbai</td>\n",
       "      <td id=\"T_d3570_row3_col1\" class=\"data row3 col1\" >1462</td>\n",
       "    </tr>\n",
       "    <tr>\n",
       "      <th id=\"T_d3570_level0_row4\" class=\"row_heading level0 row4\" >39</th>\n",
       "      <td id=\"T_d3570_row4_col0\" class=\"data row4 col0\" >Chennai</td>\n",
       "      <td id=\"T_d3570_row4_col1\" class=\"data row4 col1\" >1301</td>\n",
       "    </tr>\n",
       "    <tr>\n",
       "      <th id=\"T_d3570_level0_row5\" class=\"row_heading level0 row5\" >64</th>\n",
       "      <td id=\"T_d3570_row5_col0\" class=\"data row5 col0\" >Gurgaon</td>\n",
       "      <td id=\"T_d3570_row5_col1\" class=\"data row5 col1\" >1255</td>\n",
       "    </tr>\n",
       "    <tr>\n",
       "      <th id=\"T_d3570_level0_row6\" class=\"row_heading level0 row6\" >47</th>\n",
       "      <td id=\"T_d3570_row6_col0\" class=\"data row6 col0\" >Delhi</td>\n",
       "      <td id=\"T_d3570_row6_col1\" class=\"data row6 col1\" >782</td>\n",
       "    </tr>\n",
       "    <tr>\n",
       "      <th id=\"T_d3570_level0_row7\" class=\"row_heading level0 row7\" >128</th>\n",
       "      <td id=\"T_d3570_row7_col0\" class=\"data row7 col0\" >Noida</td>\n",
       "      <td id=\"T_d3570_row7_col1\" class=\"data row7 col1\" >545</td>\n",
       "    </tr>\n",
       "    <tr>\n",
       "      <th id=\"T_d3570_level0_row8\" class=\"row_heading level0 row8\" >98</th>\n",
       "      <td id=\"T_d3570_row8_col0\" class=\"data row8 col0\" >Kolkata</td>\n",
       "      <td id=\"T_d3570_row8_col1\" class=\"data row8 col1\" >291</td>\n",
       "    </tr>\n",
       "    <tr>\n",
       "      <th id=\"T_d3570_level0_row9\" class=\"row_heading level0 row9\" >2</th>\n",
       "      <td id=\"T_d3570_row9_col0\" class=\"data row9 col0\" >Ahmedabad</td>\n",
       "      <td id=\"T_d3570_row9_col1\" class=\"data row9 col1\" >222</td>\n",
       "    </tr>\n",
       "  </tbody>\n",
       "</table>\n"
      ],
      "text/plain": [
       "<pandas.io.formats.style.Styler at 0x7fc6ba992690>"
      ]
     },
     "execution_count": 10,
     "metadata": {},
     "output_type": "execute_result"
    }
   ],
   "source": [
    "## top 10 job locations\n",
    "\n",
    "# splitting values and saving into a list\n",
    "loc=df['Location'].tolist()\n",
    "loc=[j.strip() for i in [j.strip() for i in loc for j in i.split(',')] for j in i.split('/')]\n",
    "\n",
    "# count\n",
    "fdist = FreqDist(loc)\n",
    "loc_df=pd.DataFrame(list(dict(fdist).items()), columns=['location', 'job openings'])\n",
    "\n",
    "# removing alternate names\n",
    "for loc in ['Bengaluru','Secunderabad','Cochin','NCR','Gurugram']:\n",
    "    loc_df=loc_df[loc_df['location']!=loc]\n",
    "    \n",
    "# applying function\n",
    "loc_df['location']=loc_df['location'].apply(preprocess_location)\n",
    "loc_df=loc_df.groupby('location').sum().reset_index(level=0)\n",
    "\n",
    "# top 10 locations\n",
    "loc_df=loc_df.sort_values(by='job openings',ascending=False)[:10]\n",
    "loc_df.style.background_gradient(cmap='mako_r')"
   ]
  },
  {
   "cell_type": "code",
   "execution_count": 11,
   "id": "ca6281e0",
   "metadata": {
    "execution": {
     "iopub.execute_input": "2022-05-18T11:14:43.508068Z",
     "iopub.status.busy": "2022-05-18T11:14:43.507519Z",
     "iopub.status.idle": "2022-05-18T11:14:43.563304Z",
     "shell.execute_reply": "2022-05-18T11:14:43.562228Z"
    },
    "papermill": {
     "duration": 0.086001,
     "end_time": "2022-05-18T11:14:43.565365",
     "exception": false,
     "start_time": "2022-05-18T11:14:43.479364",
     "status": "completed"
    },
    "tags": []
   },
   "outputs": [
    {
     "data": {
      "text/html": [
       "<div style=\"width:100%;\"><div style=\"position:relative;width:100%;height:0;padding-bottom:60%;\"><span style=\"color:#565656\">Make this Notebook Trusted to load map: File -> Trust Notebook</span><iframe srcdoc=\"&lt;!DOCTYPE html&gt;\n",
       "&lt;head&gt;    \n",
       "    &lt;meta http-equiv=&quot;content-type&quot; content=&quot;text/html; charset=UTF-8&quot; /&gt;\n",
       "    \n",
       "        &lt;script&gt;\n",
       "            L_NO_TOUCH = false;\n",
       "            L_DISABLE_3D = false;\n",
       "        &lt;/script&gt;\n",
       "    \n",
       "    &lt;style&gt;html, body {width: 100%;height: 100%;margin: 0;padding: 0;}&lt;/style&gt;\n",
       "    &lt;style&gt;#map {position:absolute;top:0;bottom:0;right:0;left:0;}&lt;/style&gt;\n",
       "    &lt;script src=&quot;https://cdn.jsdelivr.net/npm/leaflet@1.6.0/dist/leaflet.js&quot;&gt;&lt;/script&gt;\n",
       "    &lt;script src=&quot;https://code.jquery.com/jquery-1.12.4.min.js&quot;&gt;&lt;/script&gt;\n",
       "    &lt;script src=&quot;https://maxcdn.bootstrapcdn.com/bootstrap/3.2.0/js/bootstrap.min.js&quot;&gt;&lt;/script&gt;\n",
       "    &lt;script src=&quot;https://cdnjs.cloudflare.com/ajax/libs/Leaflet.awesome-markers/2.0.2/leaflet.awesome-markers.js&quot;&gt;&lt;/script&gt;\n",
       "    &lt;link rel=&quot;stylesheet&quot; href=&quot;https://cdn.jsdelivr.net/npm/leaflet@1.6.0/dist/leaflet.css&quot;/&gt;\n",
       "    &lt;link rel=&quot;stylesheet&quot; href=&quot;https://maxcdn.bootstrapcdn.com/bootstrap/3.2.0/css/bootstrap.min.css&quot;/&gt;\n",
       "    &lt;link rel=&quot;stylesheet&quot; href=&quot;https://maxcdn.bootstrapcdn.com/bootstrap/3.2.0/css/bootstrap-theme.min.css&quot;/&gt;\n",
       "    &lt;link rel=&quot;stylesheet&quot; href=&quot;https://maxcdn.bootstrapcdn.com/font-awesome/4.6.3/css/font-awesome.min.css&quot;/&gt;\n",
       "    &lt;link rel=&quot;stylesheet&quot; href=&quot;https://cdnjs.cloudflare.com/ajax/libs/Leaflet.awesome-markers/2.0.2/leaflet.awesome-markers.css&quot;/&gt;\n",
       "    &lt;link rel=&quot;stylesheet&quot; href=&quot;https://cdn.jsdelivr.net/gh/python-visualization/folium/folium/templates/leaflet.awesome.rotate.min.css&quot;/&gt;\n",
       "    \n",
       "            &lt;meta name=&quot;viewport&quot; content=&quot;width=device-width,\n",
       "                initial-scale=1.0, maximum-scale=1.0, user-scalable=no&quot; /&gt;\n",
       "            &lt;style&gt;\n",
       "                #map_6ff35b7e73d621609aa5028ff30d3541 {\n",
       "                    position: relative;\n",
       "                    width: 100.0%;\n",
       "                    height: 100.0%;\n",
       "                    left: 0.0%;\n",
       "                    top: 0.0%;\n",
       "                }\n",
       "            &lt;/style&gt;\n",
       "        \n",
       "&lt;/head&gt;\n",
       "&lt;body&gt;    \n",
       "    \n",
       "             &lt;h3 align=&quot;center&quot; style=&quot;font-size:20px&quot;&gt;&lt;b&gt;Top 10 Job Locations&lt;/b&gt;&lt;/h3&gt;\n",
       "             \n",
       "    \n",
       "            &lt;div class=&quot;folium-map&quot; id=&quot;map_6ff35b7e73d621609aa5028ff30d3541&quot; &gt;&lt;/div&gt;\n",
       "        \n",
       "&lt;/body&gt;\n",
       "&lt;script&gt;    \n",
       "    \n",
       "            var map_6ff35b7e73d621609aa5028ff30d3541 = L.map(\n",
       "                &quot;map_6ff35b7e73d621609aa5028ff30d3541&quot;,\n",
       "                {\n",
       "                    center: [20.0, 78.0],\n",
       "                    crs: L.CRS.EPSG3857,\n",
       "                    zoom: 4.5,\n",
       "                    zoomControl: true,\n",
       "                    preferCanvas: false,\n",
       "                }\n",
       "            );\n",
       "\n",
       "            \n",
       "\n",
       "        \n",
       "    \n",
       "            var tile_layer_e3c22de412ad2e0db05d3bd6d7629947 = L.tileLayer(\n",
       "                &quot;https://{s}.tile.openstreetmap.org/{z}/{x}/{y}.png&quot;,\n",
       "                {&quot;attribution&quot;: &quot;Data by \\u0026copy; \\u003ca href=\\&quot;http://openstreetmap.org\\&quot;\\u003eOpenStreetMap\\u003c/a\\u003e, under \\u003ca href=\\&quot;http://www.openstreetmap.org/copyright\\&quot;\\u003eODbL\\u003c/a\\u003e.&quot;, &quot;detectRetina&quot;: false, &quot;maxNativeZoom&quot;: 18, &quot;maxZoom&quot;: 18, &quot;minZoom&quot;: 0, &quot;noWrap&quot;: false, &quot;opacity&quot;: 1, &quot;subdomains&quot;: &quot;abc&quot;, &quot;tms&quot;: false}\n",
       "            ).addTo(map_6ff35b7e73d621609aa5028ff30d3541);\n",
       "        \n",
       "    \n",
       "            var marker_121625f3f26908fdd6b3869199559964 = L.marker(\n",
       "                [12.9716, 77.5946],\n",
       "                {}\n",
       "            ).addTo(map_6ff35b7e73d621609aa5028ff30d3541);\n",
       "        \n",
       "    \n",
       "            var icon_1339f3437146f087034b8b12eb939a84 = L.AwesomeMarkers.icon(\n",
       "                {&quot;extraClasses&quot;: &quot;fa-rotate-0&quot;, &quot;icon&quot;: &quot;info-sign&quot;, &quot;iconColor&quot;: &quot;white&quot;, &quot;markerColor&quot;: &quot;red&quot;, &quot;prefix&quot;: &quot;glyphicon&quot;}\n",
       "            );\n",
       "            marker_121625f3f26908fdd6b3869199559964.setIcon(icon_1339f3437146f087034b8b12eb939a84);\n",
       "        \n",
       "    \n",
       "        var popup_d7b3fde12e4a1b8d1df222267aa1e5c2 = L.popup({&quot;maxWidth&quot;: &quot;100%&quot;});\n",
       "\n",
       "        \n",
       "            var html_27a522b7bfd11ef5f5d7954a83c5fdce = $(`&lt;div id=&quot;html_27a522b7bfd11ef5f5d7954a83c5fdce&quot; style=&quot;width: 100.0%; height: 100.0%;&quot;&gt;Bangalore&lt;/div&gt;`)[0];\n",
       "            popup_d7b3fde12e4a1b8d1df222267aa1e5c2.setContent(html_27a522b7bfd11ef5f5d7954a83c5fdce);\n",
       "        \n",
       "\n",
       "        marker_121625f3f26908fdd6b3869199559964.bindPopup(popup_d7b3fde12e4a1b8d1df222267aa1e5c2)\n",
       "        ;\n",
       "\n",
       "        \n",
       "    \n",
       "    \n",
       "            marker_121625f3f26908fdd6b3869199559964.bindTooltip(\n",
       "                `&lt;div&gt;\n",
       "                     Bangalore\n",
       "                 &lt;/div&gt;`,\n",
       "                {&quot;sticky&quot;: true}\n",
       "            );\n",
       "        \n",
       "    \n",
       "            var marker_6493d4dc2bcdbf4049bde30596e2d2bd = L.marker(\n",
       "                [18.5204, 73.8567],\n",
       "                {}\n",
       "            ).addTo(map_6ff35b7e73d621609aa5028ff30d3541);\n",
       "        \n",
       "    \n",
       "            var icon_82a2d7066b76748ed8520371c6276210 = L.AwesomeMarkers.icon(\n",
       "                {&quot;extraClasses&quot;: &quot;fa-rotate-0&quot;, &quot;icon&quot;: &quot;info-sign&quot;, &quot;iconColor&quot;: &quot;white&quot;, &quot;markerColor&quot;: &quot;red&quot;, &quot;prefix&quot;: &quot;glyphicon&quot;}\n",
       "            );\n",
       "            marker_6493d4dc2bcdbf4049bde30596e2d2bd.setIcon(icon_82a2d7066b76748ed8520371c6276210);\n",
       "        \n",
       "    \n",
       "        var popup_308e282a097ff16c609faa69d53b0709 = L.popup({&quot;maxWidth&quot;: &quot;100%&quot;});\n",
       "\n",
       "        \n",
       "            var html_f473e49fd3d8b85308eb9f77bc5b53cf = $(`&lt;div id=&quot;html_f473e49fd3d8b85308eb9f77bc5b53cf&quot; style=&quot;width: 100.0%; height: 100.0%;&quot;&gt;Pune&lt;/div&gt;`)[0];\n",
       "            popup_308e282a097ff16c609faa69d53b0709.setContent(html_f473e49fd3d8b85308eb9f77bc5b53cf);\n",
       "        \n",
       "\n",
       "        marker_6493d4dc2bcdbf4049bde30596e2d2bd.bindPopup(popup_308e282a097ff16c609faa69d53b0709)\n",
       "        ;\n",
       "\n",
       "        \n",
       "    \n",
       "    \n",
       "            marker_6493d4dc2bcdbf4049bde30596e2d2bd.bindTooltip(\n",
       "                `&lt;div&gt;\n",
       "                     Pune\n",
       "                 &lt;/div&gt;`,\n",
       "                {&quot;sticky&quot;: true}\n",
       "            );\n",
       "        \n",
       "    \n",
       "            var marker_097698c63325864b822cc888338b7655 = L.marker(\n",
       "                [17.385, 78.4867],\n",
       "                {}\n",
       "            ).addTo(map_6ff35b7e73d621609aa5028ff30d3541);\n",
       "        \n",
       "    \n",
       "            var icon_62831b4ccbde01da8197c5563634c5ff = L.AwesomeMarkers.icon(\n",
       "                {&quot;extraClasses&quot;: &quot;fa-rotate-0&quot;, &quot;icon&quot;: &quot;info-sign&quot;, &quot;iconColor&quot;: &quot;white&quot;, &quot;markerColor&quot;: &quot;red&quot;, &quot;prefix&quot;: &quot;glyphicon&quot;}\n",
       "            );\n",
       "            marker_097698c63325864b822cc888338b7655.setIcon(icon_62831b4ccbde01da8197c5563634c5ff);\n",
       "        \n",
       "    \n",
       "        var popup_2b1d62e9e6225c59d8144ffbb137833c = L.popup({&quot;maxWidth&quot;: &quot;100%&quot;});\n",
       "\n",
       "        \n",
       "            var html_8d2980ec14d04d1dc1ac87b0685080cd = $(`&lt;div id=&quot;html_8d2980ec14d04d1dc1ac87b0685080cd&quot; style=&quot;width: 100.0%; height: 100.0%;&quot;&gt;Hyderabad&lt;/div&gt;`)[0];\n",
       "            popup_2b1d62e9e6225c59d8144ffbb137833c.setContent(html_8d2980ec14d04d1dc1ac87b0685080cd);\n",
       "        \n",
       "\n",
       "        marker_097698c63325864b822cc888338b7655.bindPopup(popup_2b1d62e9e6225c59d8144ffbb137833c)\n",
       "        ;\n",
       "\n",
       "        \n",
       "    \n",
       "    \n",
       "            marker_097698c63325864b822cc888338b7655.bindTooltip(\n",
       "                `&lt;div&gt;\n",
       "                     Hyderabad\n",
       "                 &lt;/div&gt;`,\n",
       "                {&quot;sticky&quot;: true}\n",
       "            );\n",
       "        \n",
       "    \n",
       "            var marker_6fbebbb8bc3e76c4fdcd325f88e91b2b = L.marker(\n",
       "                [19.076, 72.8777],\n",
       "                {}\n",
       "            ).addTo(map_6ff35b7e73d621609aa5028ff30d3541);\n",
       "        \n",
       "    \n",
       "            var icon_c19fd65befaf3d540f97a8d08eaf6bcb = L.AwesomeMarkers.icon(\n",
       "                {&quot;extraClasses&quot;: &quot;fa-rotate-0&quot;, &quot;icon&quot;: &quot;info-sign&quot;, &quot;iconColor&quot;: &quot;white&quot;, &quot;markerColor&quot;: &quot;red&quot;, &quot;prefix&quot;: &quot;glyphicon&quot;}\n",
       "            );\n",
       "            marker_6fbebbb8bc3e76c4fdcd325f88e91b2b.setIcon(icon_c19fd65befaf3d540f97a8d08eaf6bcb);\n",
       "        \n",
       "    \n",
       "        var popup_ff78d15c426982895b50577ca33d69b1 = L.popup({&quot;maxWidth&quot;: &quot;100%&quot;});\n",
       "\n",
       "        \n",
       "            var html_8a1d66b594a837e1cb3b9fc0a85f3f08 = $(`&lt;div id=&quot;html_8a1d66b594a837e1cb3b9fc0a85f3f08&quot; style=&quot;width: 100.0%; height: 100.0%;&quot;&gt;Mumbai&lt;/div&gt;`)[0];\n",
       "            popup_ff78d15c426982895b50577ca33d69b1.setContent(html_8a1d66b594a837e1cb3b9fc0a85f3f08);\n",
       "        \n",
       "\n",
       "        marker_6fbebbb8bc3e76c4fdcd325f88e91b2b.bindPopup(popup_ff78d15c426982895b50577ca33d69b1)\n",
       "        ;\n",
       "\n",
       "        \n",
       "    \n",
       "    \n",
       "            marker_6fbebbb8bc3e76c4fdcd325f88e91b2b.bindTooltip(\n",
       "                `&lt;div&gt;\n",
       "                     Mumbai\n",
       "                 &lt;/div&gt;`,\n",
       "                {&quot;sticky&quot;: true}\n",
       "            );\n",
       "        \n",
       "    \n",
       "            var marker_ece36f7dc1363c41dfb4ad912252d0e9 = L.marker(\n",
       "                [13.0827, 80.2707],\n",
       "                {}\n",
       "            ).addTo(map_6ff35b7e73d621609aa5028ff30d3541);\n",
       "        \n",
       "    \n",
       "            var icon_ff159822d69232bdbb6db9bb7e854cea = L.AwesomeMarkers.icon(\n",
       "                {&quot;extraClasses&quot;: &quot;fa-rotate-0&quot;, &quot;icon&quot;: &quot;info-sign&quot;, &quot;iconColor&quot;: &quot;white&quot;, &quot;markerColor&quot;: &quot;red&quot;, &quot;prefix&quot;: &quot;glyphicon&quot;}\n",
       "            );\n",
       "            marker_ece36f7dc1363c41dfb4ad912252d0e9.setIcon(icon_ff159822d69232bdbb6db9bb7e854cea);\n",
       "        \n",
       "    \n",
       "        var popup_479e436fde40d1a6f0de8bcb451e85a5 = L.popup({&quot;maxWidth&quot;: &quot;100%&quot;});\n",
       "\n",
       "        \n",
       "            var html_c520704e8262402c5d18c83ba929ac8d = $(`&lt;div id=&quot;html_c520704e8262402c5d18c83ba929ac8d&quot; style=&quot;width: 100.0%; height: 100.0%;&quot;&gt;Chennai&lt;/div&gt;`)[0];\n",
       "            popup_479e436fde40d1a6f0de8bcb451e85a5.setContent(html_c520704e8262402c5d18c83ba929ac8d);\n",
       "        \n",
       "\n",
       "        marker_ece36f7dc1363c41dfb4ad912252d0e9.bindPopup(popup_479e436fde40d1a6f0de8bcb451e85a5)\n",
       "        ;\n",
       "\n",
       "        \n",
       "    \n",
       "    \n",
       "            marker_ece36f7dc1363c41dfb4ad912252d0e9.bindTooltip(\n",
       "                `&lt;div&gt;\n",
       "                     Chennai\n",
       "                 &lt;/div&gt;`,\n",
       "                {&quot;sticky&quot;: true}\n",
       "            );\n",
       "        \n",
       "    \n",
       "            var marker_e1dcb0c143ef2c21cdc22322c1b63ca3 = L.marker(\n",
       "                [28.4595, 77.0266],\n",
       "                {}\n",
       "            ).addTo(map_6ff35b7e73d621609aa5028ff30d3541);\n",
       "        \n",
       "    \n",
       "            var icon_5e0b1603e06121c556c99927ededb1de = L.AwesomeMarkers.icon(\n",
       "                {&quot;extraClasses&quot;: &quot;fa-rotate-0&quot;, &quot;icon&quot;: &quot;info-sign&quot;, &quot;iconColor&quot;: &quot;white&quot;, &quot;markerColor&quot;: &quot;red&quot;, &quot;prefix&quot;: &quot;glyphicon&quot;}\n",
       "            );\n",
       "            marker_e1dcb0c143ef2c21cdc22322c1b63ca3.setIcon(icon_5e0b1603e06121c556c99927ededb1de);\n",
       "        \n",
       "    \n",
       "        var popup_77b4d86aaa233b32b67f43768ec0091a = L.popup({&quot;maxWidth&quot;: &quot;100%&quot;});\n",
       "\n",
       "        \n",
       "            var html_ff650a8edd6bd51381d2e03fe01122d3 = $(`&lt;div id=&quot;html_ff650a8edd6bd51381d2e03fe01122d3&quot; style=&quot;width: 100.0%; height: 100.0%;&quot;&gt;Gurgaon&lt;/div&gt;`)[0];\n",
       "            popup_77b4d86aaa233b32b67f43768ec0091a.setContent(html_ff650a8edd6bd51381d2e03fe01122d3);\n",
       "        \n",
       "\n",
       "        marker_e1dcb0c143ef2c21cdc22322c1b63ca3.bindPopup(popup_77b4d86aaa233b32b67f43768ec0091a)\n",
       "        ;\n",
       "\n",
       "        \n",
       "    \n",
       "    \n",
       "            marker_e1dcb0c143ef2c21cdc22322c1b63ca3.bindTooltip(\n",
       "                `&lt;div&gt;\n",
       "                     Gurgaon\n",
       "                 &lt;/div&gt;`,\n",
       "                {&quot;sticky&quot;: true}\n",
       "            );\n",
       "        \n",
       "    \n",
       "            var marker_5cb4bcf3984c64318d5af3f8f1b84173 = L.marker(\n",
       "                [28.6139, 77.209],\n",
       "                {}\n",
       "            ).addTo(map_6ff35b7e73d621609aa5028ff30d3541);\n",
       "        \n",
       "    \n",
       "            var icon_9cd927a733a370d9ca2112dc5ee25ca3 = L.AwesomeMarkers.icon(\n",
       "                {&quot;extraClasses&quot;: &quot;fa-rotate-0&quot;, &quot;icon&quot;: &quot;info-sign&quot;, &quot;iconColor&quot;: &quot;white&quot;, &quot;markerColor&quot;: &quot;red&quot;, &quot;prefix&quot;: &quot;glyphicon&quot;}\n",
       "            );\n",
       "            marker_5cb4bcf3984c64318d5af3f8f1b84173.setIcon(icon_9cd927a733a370d9ca2112dc5ee25ca3);\n",
       "        \n",
       "    \n",
       "        var popup_434d901d6079626a317cd133d7f85c42 = L.popup({&quot;maxWidth&quot;: &quot;100%&quot;});\n",
       "\n",
       "        \n",
       "            var html_8f6dab0fc033f10a040a5f5987441c65 = $(`&lt;div id=&quot;html_8f6dab0fc033f10a040a5f5987441c65&quot; style=&quot;width: 100.0%; height: 100.0%;&quot;&gt;Delhi&lt;/div&gt;`)[0];\n",
       "            popup_434d901d6079626a317cd133d7f85c42.setContent(html_8f6dab0fc033f10a040a5f5987441c65);\n",
       "        \n",
       "\n",
       "        marker_5cb4bcf3984c64318d5af3f8f1b84173.bindPopup(popup_434d901d6079626a317cd133d7f85c42)\n",
       "        ;\n",
       "\n",
       "        \n",
       "    \n",
       "    \n",
       "            marker_5cb4bcf3984c64318d5af3f8f1b84173.bindTooltip(\n",
       "                `&lt;div&gt;\n",
       "                     Delhi\n",
       "                 &lt;/div&gt;`,\n",
       "                {&quot;sticky&quot;: true}\n",
       "            );\n",
       "        \n",
       "    \n",
       "            var marker_d28284af88752770199d90d8d8630f3c = L.marker(\n",
       "                [28.5355, 77.391],\n",
       "                {}\n",
       "            ).addTo(map_6ff35b7e73d621609aa5028ff30d3541);\n",
       "        \n",
       "    \n",
       "            var icon_56422a04147140446384959f6a115441 = L.AwesomeMarkers.icon(\n",
       "                {&quot;extraClasses&quot;: &quot;fa-rotate-0&quot;, &quot;icon&quot;: &quot;info-sign&quot;, &quot;iconColor&quot;: &quot;white&quot;, &quot;markerColor&quot;: &quot;red&quot;, &quot;prefix&quot;: &quot;glyphicon&quot;}\n",
       "            );\n",
       "            marker_d28284af88752770199d90d8d8630f3c.setIcon(icon_56422a04147140446384959f6a115441);\n",
       "        \n",
       "    \n",
       "        var popup_97c7d87ec72285154f459b3c23bb02de = L.popup({&quot;maxWidth&quot;: &quot;100%&quot;});\n",
       "\n",
       "        \n",
       "            var html_6aea7fbeeabe4b07a4e3cd21459c338d = $(`&lt;div id=&quot;html_6aea7fbeeabe4b07a4e3cd21459c338d&quot; style=&quot;width: 100.0%; height: 100.0%;&quot;&gt;Noida&lt;/div&gt;`)[0];\n",
       "            popup_97c7d87ec72285154f459b3c23bb02de.setContent(html_6aea7fbeeabe4b07a4e3cd21459c338d);\n",
       "        \n",
       "\n",
       "        marker_d28284af88752770199d90d8d8630f3c.bindPopup(popup_97c7d87ec72285154f459b3c23bb02de)\n",
       "        ;\n",
       "\n",
       "        \n",
       "    \n",
       "    \n",
       "            marker_d28284af88752770199d90d8d8630f3c.bindTooltip(\n",
       "                `&lt;div&gt;\n",
       "                     Noida\n",
       "                 &lt;/div&gt;`,\n",
       "                {&quot;sticky&quot;: true}\n",
       "            );\n",
       "        \n",
       "    \n",
       "            var marker_fd7be2c2268b4f906a455f219447c4bd = L.marker(\n",
       "                [22.5726, 88.3639],\n",
       "                {}\n",
       "            ).addTo(map_6ff35b7e73d621609aa5028ff30d3541);\n",
       "        \n",
       "    \n",
       "            var icon_ddcedd60683e7b4ca757472af9b45ac9 = L.AwesomeMarkers.icon(\n",
       "                {&quot;extraClasses&quot;: &quot;fa-rotate-0&quot;, &quot;icon&quot;: &quot;info-sign&quot;, &quot;iconColor&quot;: &quot;white&quot;, &quot;markerColor&quot;: &quot;red&quot;, &quot;prefix&quot;: &quot;glyphicon&quot;}\n",
       "            );\n",
       "            marker_fd7be2c2268b4f906a455f219447c4bd.setIcon(icon_ddcedd60683e7b4ca757472af9b45ac9);\n",
       "        \n",
       "    \n",
       "        var popup_2134d6cd9f0781a859b631b3e04697a9 = L.popup({&quot;maxWidth&quot;: &quot;100%&quot;});\n",
       "\n",
       "        \n",
       "            var html_6c8b0520cb03195354cb7c67b7bc58fe = $(`&lt;div id=&quot;html_6c8b0520cb03195354cb7c67b7bc58fe&quot; style=&quot;width: 100.0%; height: 100.0%;&quot;&gt;Kolkata&lt;/div&gt;`)[0];\n",
       "            popup_2134d6cd9f0781a859b631b3e04697a9.setContent(html_6c8b0520cb03195354cb7c67b7bc58fe);\n",
       "        \n",
       "\n",
       "        marker_fd7be2c2268b4f906a455f219447c4bd.bindPopup(popup_2134d6cd9f0781a859b631b3e04697a9)\n",
       "        ;\n",
       "\n",
       "        \n",
       "    \n",
       "    \n",
       "            marker_fd7be2c2268b4f906a455f219447c4bd.bindTooltip(\n",
       "                `&lt;div&gt;\n",
       "                     Kolkata\n",
       "                 &lt;/div&gt;`,\n",
       "                {&quot;sticky&quot;: true}\n",
       "            );\n",
       "        \n",
       "    \n",
       "            var marker_220a4b65cbef8e06c5b978e59b4422e1 = L.marker(\n",
       "                [23.0225, 72.5714],\n",
       "                {}\n",
       "            ).addTo(map_6ff35b7e73d621609aa5028ff30d3541);\n",
       "        \n",
       "    \n",
       "            var icon_3be4dd9b4bee043c9b12bc5bd1351291 = L.AwesomeMarkers.icon(\n",
       "                {&quot;extraClasses&quot;: &quot;fa-rotate-0&quot;, &quot;icon&quot;: &quot;info-sign&quot;, &quot;iconColor&quot;: &quot;white&quot;, &quot;markerColor&quot;: &quot;red&quot;, &quot;prefix&quot;: &quot;glyphicon&quot;}\n",
       "            );\n",
       "            marker_220a4b65cbef8e06c5b978e59b4422e1.setIcon(icon_3be4dd9b4bee043c9b12bc5bd1351291);\n",
       "        \n",
       "    \n",
       "        var popup_d5f8465143c66a6615b0b2c5a2599fc7 = L.popup({&quot;maxWidth&quot;: &quot;100%&quot;});\n",
       "\n",
       "        \n",
       "            var html_959ce341ce47903da921d37830de22c8 = $(`&lt;div id=&quot;html_959ce341ce47903da921d37830de22c8&quot; style=&quot;width: 100.0%; height: 100.0%;&quot;&gt;Ahmedabad&lt;/div&gt;`)[0];\n",
       "            popup_d5f8465143c66a6615b0b2c5a2599fc7.setContent(html_959ce341ce47903da921d37830de22c8);\n",
       "        \n",
       "\n",
       "        marker_220a4b65cbef8e06c5b978e59b4422e1.bindPopup(popup_d5f8465143c66a6615b0b2c5a2599fc7)\n",
       "        ;\n",
       "\n",
       "        \n",
       "    \n",
       "    \n",
       "            marker_220a4b65cbef8e06c5b978e59b4422e1.bindTooltip(\n",
       "                `&lt;div&gt;\n",
       "                     Ahmedabad\n",
       "                 &lt;/div&gt;`,\n",
       "                {&quot;sticky&quot;: true}\n",
       "            );\n",
       "        \n",
       "&lt;/script&gt;\" style=\"position:absolute;width:100%;height:100%;left:0;top:0;border:none !important;\" allowfullscreen webkitallowfullscreen mozallowfullscreen></iframe></div></div>"
      ],
      "text/plain": [
       "<folium.folium.Map at 0x7fc6baab8110>"
      ]
     },
     "execution_count": 11,
     "metadata": {},
     "output_type": "execute_result"
    }
   ],
   "source": [
    "# latitude and longitude of the locations\n",
    "lat=[12.9716,18.5204,17.3850,19.0760,13.0827,28.4595,28.6139,28.5355,22.5726,23.0225]\n",
    "lon=[77.5946,73.8567,78.4867,72.8777,80.2707,77.0266,77.2090,77.3910,88.3639,72.5714]\n",
    "\n",
    "df1=loc_df.copy()\n",
    "df1['lat']=lat\n",
    "df1['lon']=lon\n",
    "\n",
    "# title\n",
    "loc = 'Top 10 Job Locations'\n",
    "title_html = '''\n",
    "             <h3 align=\"center\" style=\"font-size:20px\"><b>{}</b></h3>\n",
    "             '''.format(loc)\n",
    "\n",
    "# creating map\n",
    "m = folium.Map(location=[20,78], tiles=\"OpenStreetMap\", zoom_start=4.5)\n",
    "m.get_root().html.add_child(folium.Element(title_html))\n",
    "    \n",
    "for i in range(0,len(df1)):\n",
    "    # marking each location\n",
    "    folium.Marker(\n",
    "      location=[df1.iloc[i]['lat'], df1.iloc[i]['lon']],\n",
    "      popup=df1.iloc[i]['location'],\n",
    "      tooltip = df1.location.values[i],\n",
    "      icon=folium.Icon(icon='info-sign', color=\"red\"),\n",
    "      draggable=False\n",
    "   ).add_to(m)\n",
    "\n",
    "# Show the map\n",
    "m"
   ]
  },
  {
   "cell_type": "markdown",
   "id": "afd0cb93",
   "metadata": {
    "papermill": {
     "duration": 0.027554,
     "end_time": "2022-05-18T11:14:43.620450",
     "exception": false,
     "start_time": "2022-05-18T11:14:43.592896",
     "status": "completed"
    },
    "tags": []
   },
   "source": [
    "### 3.3 Required Skills"
   ]
  },
  {
   "cell_type": "code",
   "execution_count": 12,
   "id": "cb2923f2",
   "metadata": {
    "execution": {
     "iopub.execute_input": "2022-05-18T11:14:43.677730Z",
     "iopub.status.busy": "2022-05-18T11:14:43.677423Z",
     "iopub.status.idle": "2022-05-18T11:14:43.784621Z",
     "shell.execute_reply": "2022-05-18T11:14:43.784023Z"
    },
    "papermill": {
     "duration": 0.138277,
     "end_time": "2022-05-18T11:14:43.786373",
     "exception": false,
     "start_time": "2022-05-18T11:14:43.648096",
     "status": "completed"
    },
    "tags": []
   },
   "outputs": [
    {
     "data": {
      "text/html": [
       "<style type=\"text/css\">\n",
       "#T_8728d_row0_col1 {\n",
       "  background-color: #023858;\n",
       "  color: #f1f1f1;\n",
       "}\n",
       "#T_8728d_row1_col1 {\n",
       "  background-color: #045a8d;\n",
       "  color: #f1f1f1;\n",
       "}\n",
       "#T_8728d_row2_col1 {\n",
       "  background-color: #c5cce3;\n",
       "  color: #000000;\n",
       "}\n",
       "#T_8728d_row3_col1 {\n",
       "  background-color: #dddbec;\n",
       "  color: #000000;\n",
       "}\n",
       "#T_8728d_row4_col1 {\n",
       "  background-color: #e7e3f0;\n",
       "  color: #000000;\n",
       "}\n",
       "#T_8728d_row5_col1 {\n",
       "  background-color: #f3edf5;\n",
       "  color: #000000;\n",
       "}\n",
       "#T_8728d_row6_col1 {\n",
       "  background-color: #f7f0f7;\n",
       "  color: #000000;\n",
       "}\n",
       "#T_8728d_row7_col1 {\n",
       "  background-color: #faf3f9;\n",
       "  color: #000000;\n",
       "}\n",
       "#T_8728d_row8_col1 {\n",
       "  background-color: #fbf4f9;\n",
       "  color: #000000;\n",
       "}\n",
       "#T_8728d_row9_col1 {\n",
       "  background-color: #fff7fb;\n",
       "  color: #000000;\n",
       "}\n",
       "</style>\n",
       "<table id=\"T_8728d_\">\n",
       "  <thead>\n",
       "    <tr>\n",
       "      <th class=\"blank level0\" >&nbsp;</th>\n",
       "      <th class=\"col_heading level0 col0\" >Skill</th>\n",
       "      <th class=\"col_heading level0 col1\" >Frequency</th>\n",
       "    </tr>\n",
       "  </thead>\n",
       "  <tbody>\n",
       "    <tr>\n",
       "      <th id=\"T_8728d_level0_row0\" class=\"row_heading level0 row0\" >0</th>\n",
       "      <td id=\"T_8728d_row0_col0\" class=\"data row0 col0\" >python</td>\n",
       "      <td id=\"T_8728d_row0_col1\" class=\"data row0 col1\" >3152</td>\n",
       "    </tr>\n",
       "    <tr>\n",
       "      <th id=\"T_8728d_level0_row1\" class=\"row_heading level0 row1\" >4</th>\n",
       "      <td id=\"T_8728d_row1_col0\" class=\"data row1 col0\" >it skills</td>\n",
       "      <td id=\"T_8728d_row1_col1\" class=\"data row1 col1\" >2907</td>\n",
       "    </tr>\n",
       "    <tr>\n",
       "      <th id=\"T_8728d_level0_row2\" class=\"row_heading level0 row2\" >3</th>\n",
       "      <td id=\"T_8728d_row2_col0\" class=\"data row2 col0\" >machine learning</td>\n",
       "      <td id=\"T_8728d_row2_col1\" class=\"data row2 col1\" >1780</td>\n",
       "    </tr>\n",
       "    <tr>\n",
       "      <th id=\"T_8728d_level0_row3\" class=\"row_heading level0 row3\" >20</th>\n",
       "      <td id=\"T_8728d_row3_col0\" class=\"data row3 col0\" >data analysis</td>\n",
       "      <td id=\"T_8728d_row3_col1\" class=\"data row3 col1\" >1614</td>\n",
       "    </tr>\n",
       "    <tr>\n",
       "      <th id=\"T_8728d_level0_row4\" class=\"row_heading level0 row4\" >47</th>\n",
       "      <td id=\"T_8728d_row4_col0\" class=\"data row4 col0\" >sql</td>\n",
       "      <td id=\"T_8728d_row4_col1\" class=\"data row4 col1\" >1525</td>\n",
       "    </tr>\n",
       "    <tr>\n",
       "      <th id=\"T_8728d_level0_row5\" class=\"row_heading level0 row5\" >22</th>\n",
       "      <td id=\"T_8728d_row5_col0\" class=\"data row5 col0\" >big data</td>\n",
       "      <td id=\"T_8728d_row5_col1\" class=\"data row5 col1\" >1396</td>\n",
       "    </tr>\n",
       "    <tr>\n",
       "      <th id=\"T_8728d_level0_row6\" class=\"row_heading level0 row6\" >23</th>\n",
       "      <td id=\"T_8728d_row6_col0\" class=\"data row6 col0\" >computer science</td>\n",
       "      <td id=\"T_8728d_row6_col1\" class=\"data row6 col1\" >1339</td>\n",
       "    </tr>\n",
       "    <tr>\n",
       "      <th id=\"T_8728d_level0_row7\" class=\"row_heading level0 row7\" >87</th>\n",
       "      <td id=\"T_8728d_row7_col0\" class=\"data row7 col0\" >analytical</td>\n",
       "      <td id=\"T_8728d_row7_col1\" class=\"data row7 col1\" >1306</td>\n",
       "    </tr>\n",
       "    <tr>\n",
       "      <th id=\"T_8728d_level0_row8\" class=\"row_heading level0 row8\" >8</th>\n",
       "      <td id=\"T_8728d_row8_col0\" class=\"data row8 col0\" >data science</td>\n",
       "      <td id=\"T_8728d_row8_col1\" class=\"data row8 col1\" >1288</td>\n",
       "    </tr>\n",
       "    <tr>\n",
       "      <th id=\"T_8728d_level0_row9\" class=\"row_heading level0 row9\" >15</th>\n",
       "      <td id=\"T_8728d_row9_col0\" class=\"data row9 col0\" >cloud</td>\n",
       "      <td id=\"T_8728d_row9_col1\" class=\"data row9 col1\" >1242</td>\n",
       "    </tr>\n",
       "  </tbody>\n",
       "</table>\n"
      ],
      "text/plain": [
       "<pandas.io.formats.style.Styler at 0x7fc6b9d1a750>"
      ]
     },
     "execution_count": 12,
     "metadata": {},
     "output_type": "execute_result"
    }
   ],
   "source": [
    "# Top 10 demanding skills in data science jobs\n",
    "skills=[j.lower() for i in df['Skills/Description'] for j in i.split(', ')]\n",
    "fdist = FreqDist(skills)\n",
    "skill_df=pd.DataFrame(fdist.items(), \n",
    "                      columns=['Skill', 'Frequency']\n",
    "                    ).sort_values('Frequency', ascending=False)[:10]\n",
    "skill_df.style.background_gradient()"
   ]
  },
  {
   "cell_type": "code",
   "execution_count": 13,
   "id": "b2ea37f7",
   "metadata": {
    "execution": {
     "iopub.execute_input": "2022-05-18T11:14:43.846876Z",
     "iopub.status.busy": "2022-05-18T11:14:43.846413Z",
     "iopub.status.idle": "2022-05-18T11:14:43.981629Z",
     "shell.execute_reply": "2022-05-18T11:14:43.980732Z"
    },
    "papermill": {
     "duration": 0.168439,
     "end_time": "2022-05-18T11:14:43.984492",
     "exception": false,
     "start_time": "2022-05-18T11:14:43.816053",
     "status": "completed"
    },
    "tags": []
   },
   "outputs": [
    {
     "data": {
      "text/html": [
       "<div>                            <div id=\"e22f8311-4bd9-4d73-891a-9fae1db36138\" class=\"plotly-graph-div\" style=\"height:600px; width:900px;\"></div>            <script type=\"text/javascript\">                require([\"plotly\"], function(Plotly) {                    window.PLOTLYENV=window.PLOTLYENV || {};                                    if (document.getElementById(\"e22f8311-4bd9-4d73-891a-9fae1db36138\")) {                    Plotly.newPlot(                        \"e22f8311-4bd9-4d73-891a-9fae1db36138\",                        [{\"alignmentgroup\":\"True\",\"hovertemplate\":\"Skill=%{y}<br>Frequency=%{x}<extra></extra>\",\"legendgroup\":\"python\",\"marker\":{\"color\":\"crimson\",\"pattern\":{\"shape\":\"\"}},\"name\":\"python\",\"offsetgroup\":\"python\",\"orientation\":\"h\",\"showlegend\":true,\"textposition\":\"auto\",\"x\":[3152],\"xaxis\":\"x\",\"y\":[\"python\"],\"yaxis\":\"y\",\"type\":\"bar\"},{\"alignmentgroup\":\"True\",\"hovertemplate\":\"Skill=%{y}<br>Frequency=%{x}<extra></extra>\",\"legendgroup\":\"it skills\",\"marker\":{\"color\":\"grey\",\"pattern\":{\"shape\":\"\"}},\"name\":\"it skills\",\"offsetgroup\":\"it skills\",\"orientation\":\"h\",\"showlegend\":true,\"textposition\":\"auto\",\"x\":[2907],\"xaxis\":\"x\",\"y\":[\"it skills\"],\"yaxis\":\"y\",\"type\":\"bar\"},{\"alignmentgroup\":\"True\",\"hovertemplate\":\"Skill=%{y}<br>Frequency=%{x}<extra></extra>\",\"legendgroup\":\"machine learning\",\"marker\":{\"color\":\"grey\",\"pattern\":{\"shape\":\"\"}},\"name\":\"machine learning\",\"offsetgroup\":\"machine learning\",\"orientation\":\"h\",\"showlegend\":true,\"textposition\":\"auto\",\"x\":[1780],\"xaxis\":\"x\",\"y\":[\"machine learning\"],\"yaxis\":\"y\",\"type\":\"bar\"},{\"alignmentgroup\":\"True\",\"hovertemplate\":\"Skill=%{y}<br>Frequency=%{x}<extra></extra>\",\"legendgroup\":\"data analysis\",\"marker\":{\"color\":\"grey\",\"pattern\":{\"shape\":\"\"}},\"name\":\"data analysis\",\"offsetgroup\":\"data analysis\",\"orientation\":\"h\",\"showlegend\":true,\"textposition\":\"auto\",\"x\":[1614],\"xaxis\":\"x\",\"y\":[\"data analysis\"],\"yaxis\":\"y\",\"type\":\"bar\"},{\"alignmentgroup\":\"True\",\"hovertemplate\":\"Skill=%{y}<br>Frequency=%{x}<extra></extra>\",\"legendgroup\":\"sql\",\"marker\":{\"color\":\"grey\",\"pattern\":{\"shape\":\"\"}},\"name\":\"sql\",\"offsetgroup\":\"sql\",\"orientation\":\"h\",\"showlegend\":true,\"textposition\":\"auto\",\"x\":[1525],\"xaxis\":\"x\",\"y\":[\"sql\"],\"yaxis\":\"y\",\"type\":\"bar\"},{\"alignmentgroup\":\"True\",\"hovertemplate\":\"Skill=%{y}<br>Frequency=%{x}<extra></extra>\",\"legendgroup\":\"big data\",\"marker\":{\"color\":\"grey\",\"pattern\":{\"shape\":\"\"}},\"name\":\"big data\",\"offsetgroup\":\"big data\",\"orientation\":\"h\",\"showlegend\":true,\"textposition\":\"auto\",\"x\":[1396],\"xaxis\":\"x\",\"y\":[\"big data\"],\"yaxis\":\"y\",\"type\":\"bar\"},{\"alignmentgroup\":\"True\",\"hovertemplate\":\"Skill=%{y}<br>Frequency=%{x}<extra></extra>\",\"legendgroup\":\"computer science\",\"marker\":{\"color\":\"grey\",\"pattern\":{\"shape\":\"\"}},\"name\":\"computer science\",\"offsetgroup\":\"computer science\",\"orientation\":\"h\",\"showlegend\":true,\"textposition\":\"auto\",\"x\":[1339],\"xaxis\":\"x\",\"y\":[\"computer science\"],\"yaxis\":\"y\",\"type\":\"bar\"},{\"alignmentgroup\":\"True\",\"hovertemplate\":\"Skill=%{y}<br>Frequency=%{x}<extra></extra>\",\"legendgroup\":\"analytical\",\"marker\":{\"color\":\"grey\",\"pattern\":{\"shape\":\"\"}},\"name\":\"analytical\",\"offsetgroup\":\"analytical\",\"orientation\":\"h\",\"showlegend\":true,\"textposition\":\"auto\",\"x\":[1306],\"xaxis\":\"x\",\"y\":[\"analytical\"],\"yaxis\":\"y\",\"type\":\"bar\"},{\"alignmentgroup\":\"True\",\"hovertemplate\":\"Skill=%{y}<br>Frequency=%{x}<extra></extra>\",\"legendgroup\":\"data science\",\"marker\":{\"color\":\"grey\",\"pattern\":{\"shape\":\"\"}},\"name\":\"data science\",\"offsetgroup\":\"data science\",\"orientation\":\"h\",\"showlegend\":true,\"textposition\":\"auto\",\"x\":[1288],\"xaxis\":\"x\",\"y\":[\"data science\"],\"yaxis\":\"y\",\"type\":\"bar\"},{\"alignmentgroup\":\"True\",\"hovertemplate\":\"Skill=%{y}<br>Frequency=%{x}<extra></extra>\",\"legendgroup\":\"cloud\",\"marker\":{\"color\":\"grey\",\"pattern\":{\"shape\":\"\"}},\"name\":\"cloud\",\"offsetgroup\":\"cloud\",\"orientation\":\"h\",\"showlegend\":true,\"textposition\":\"auto\",\"x\":[1242],\"xaxis\":\"x\",\"y\":[\"cloud\"],\"yaxis\":\"y\",\"type\":\"bar\"}],                        {\"template\":{\"data\":{\"histogram2dcontour\":[{\"type\":\"histogram2dcontour\",\"colorbar\":{\"outlinewidth\":0,\"ticks\":\"\"},\"colorscale\":[[0.0,\"#0d0887\"],[0.1111111111111111,\"#46039f\"],[0.2222222222222222,\"#7201a8\"],[0.3333333333333333,\"#9c179e\"],[0.4444444444444444,\"#bd3786\"],[0.5555555555555556,\"#d8576b\"],[0.6666666666666666,\"#ed7953\"],[0.7777777777777778,\"#fb9f3a\"],[0.8888888888888888,\"#fdca26\"],[1.0,\"#f0f921\"]]}],\"choropleth\":[{\"type\":\"choropleth\",\"colorbar\":{\"outlinewidth\":0,\"ticks\":\"\"}}],\"histogram2d\":[{\"type\":\"histogram2d\",\"colorbar\":{\"outlinewidth\":0,\"ticks\":\"\"},\"colorscale\":[[0.0,\"#0d0887\"],[0.1111111111111111,\"#46039f\"],[0.2222222222222222,\"#7201a8\"],[0.3333333333333333,\"#9c179e\"],[0.4444444444444444,\"#bd3786\"],[0.5555555555555556,\"#d8576b\"],[0.6666666666666666,\"#ed7953\"],[0.7777777777777778,\"#fb9f3a\"],[0.8888888888888888,\"#fdca26\"],[1.0,\"#f0f921\"]]}],\"heatmap\":[{\"type\":\"heatmap\",\"colorbar\":{\"outlinewidth\":0,\"ticks\":\"\"},\"colorscale\":[[0.0,\"#0d0887\"],[0.1111111111111111,\"#46039f\"],[0.2222222222222222,\"#7201a8\"],[0.3333333333333333,\"#9c179e\"],[0.4444444444444444,\"#bd3786\"],[0.5555555555555556,\"#d8576b\"],[0.6666666666666666,\"#ed7953\"],[0.7777777777777778,\"#fb9f3a\"],[0.8888888888888888,\"#fdca26\"],[1.0,\"#f0f921\"]]}],\"heatmapgl\":[{\"type\":\"heatmapgl\",\"colorbar\":{\"outlinewidth\":0,\"ticks\":\"\"},\"colorscale\":[[0.0,\"#0d0887\"],[0.1111111111111111,\"#46039f\"],[0.2222222222222222,\"#7201a8\"],[0.3333333333333333,\"#9c179e\"],[0.4444444444444444,\"#bd3786\"],[0.5555555555555556,\"#d8576b\"],[0.6666666666666666,\"#ed7953\"],[0.7777777777777778,\"#fb9f3a\"],[0.8888888888888888,\"#fdca26\"],[1.0,\"#f0f921\"]]}],\"contourcarpet\":[{\"type\":\"contourcarpet\",\"colorbar\":{\"outlinewidth\":0,\"ticks\":\"\"}}],\"contour\":[{\"type\":\"contour\",\"colorbar\":{\"outlinewidth\":0,\"ticks\":\"\"},\"colorscale\":[[0.0,\"#0d0887\"],[0.1111111111111111,\"#46039f\"],[0.2222222222222222,\"#7201a8\"],[0.3333333333333333,\"#9c179e\"],[0.4444444444444444,\"#bd3786\"],[0.5555555555555556,\"#d8576b\"],[0.6666666666666666,\"#ed7953\"],[0.7777777777777778,\"#fb9f3a\"],[0.8888888888888888,\"#fdca26\"],[1.0,\"#f0f921\"]]}],\"surface\":[{\"type\":\"surface\",\"colorbar\":{\"outlinewidth\":0,\"ticks\":\"\"},\"colorscale\":[[0.0,\"#0d0887\"],[0.1111111111111111,\"#46039f\"],[0.2222222222222222,\"#7201a8\"],[0.3333333333333333,\"#9c179e\"],[0.4444444444444444,\"#bd3786\"],[0.5555555555555556,\"#d8576b\"],[0.6666666666666666,\"#ed7953\"],[0.7777777777777778,\"#fb9f3a\"],[0.8888888888888888,\"#fdca26\"],[1.0,\"#f0f921\"]]}],\"mesh3d\":[{\"type\":\"mesh3d\",\"colorbar\":{\"outlinewidth\":0,\"ticks\":\"\"}}],\"scatter\":[{\"fillpattern\":{\"fillmode\":\"overlay\",\"size\":10,\"solidity\":0.2},\"type\":\"scatter\"}],\"parcoords\":[{\"type\":\"parcoords\",\"line\":{\"colorbar\":{\"outlinewidth\":0,\"ticks\":\"\"}}}],\"scatterpolargl\":[{\"type\":\"scatterpolargl\",\"marker\":{\"colorbar\":{\"outlinewidth\":0,\"ticks\":\"\"}}}],\"bar\":[{\"error_x\":{\"color\":\"#2a3f5f\"},\"error_y\":{\"color\":\"#2a3f5f\"},\"marker\":{\"line\":{\"color\":\"#E5ECF6\",\"width\":0.5},\"pattern\":{\"fillmode\":\"overlay\",\"size\":10,\"solidity\":0.2}},\"type\":\"bar\"}],\"scattergeo\":[{\"type\":\"scattergeo\",\"marker\":{\"colorbar\":{\"outlinewidth\":0,\"ticks\":\"\"}}}],\"scatterpolar\":[{\"type\":\"scatterpolar\",\"marker\":{\"colorbar\":{\"outlinewidth\":0,\"ticks\":\"\"}}}],\"histogram\":[{\"marker\":{\"pattern\":{\"fillmode\":\"overlay\",\"size\":10,\"solidity\":0.2}},\"type\":\"histogram\"}],\"scattergl\":[{\"type\":\"scattergl\",\"marker\":{\"colorbar\":{\"outlinewidth\":0,\"ticks\":\"\"}}}],\"scatter3d\":[{\"type\":\"scatter3d\",\"line\":{\"colorbar\":{\"outlinewidth\":0,\"ticks\":\"\"}},\"marker\":{\"colorbar\":{\"outlinewidth\":0,\"ticks\":\"\"}}}],\"scattermapbox\":[{\"type\":\"scattermapbox\",\"marker\":{\"colorbar\":{\"outlinewidth\":0,\"ticks\":\"\"}}}],\"scatterternary\":[{\"type\":\"scatterternary\",\"marker\":{\"colorbar\":{\"outlinewidth\":0,\"ticks\":\"\"}}}],\"scattercarpet\":[{\"type\":\"scattercarpet\",\"marker\":{\"colorbar\":{\"outlinewidth\":0,\"ticks\":\"\"}}}],\"carpet\":[{\"aaxis\":{\"endlinecolor\":\"#2a3f5f\",\"gridcolor\":\"white\",\"linecolor\":\"white\",\"minorgridcolor\":\"white\",\"startlinecolor\":\"#2a3f5f\"},\"baxis\":{\"endlinecolor\":\"#2a3f5f\",\"gridcolor\":\"white\",\"linecolor\":\"white\",\"minorgridcolor\":\"white\",\"startlinecolor\":\"#2a3f5f\"},\"type\":\"carpet\"}],\"table\":[{\"cells\":{\"fill\":{\"color\":\"#EBF0F8\"},\"line\":{\"color\":\"white\"}},\"header\":{\"fill\":{\"color\":\"#C8D4E3\"},\"line\":{\"color\":\"white\"}},\"type\":\"table\"}],\"barpolar\":[{\"marker\":{\"line\":{\"color\":\"#E5ECF6\",\"width\":0.5},\"pattern\":{\"fillmode\":\"overlay\",\"size\":10,\"solidity\":0.2}},\"type\":\"barpolar\"}],\"pie\":[{\"automargin\":true,\"type\":\"pie\"}]},\"layout\":{\"autotypenumbers\":\"strict\",\"colorway\":[\"#636efa\",\"#EF553B\",\"#00cc96\",\"#ab63fa\",\"#FFA15A\",\"#19d3f3\",\"#FF6692\",\"#B6E880\",\"#FF97FF\",\"#FECB52\"],\"font\":{\"color\":\"#2a3f5f\"},\"hovermode\":\"closest\",\"hoverlabel\":{\"align\":\"left\"},\"paper_bgcolor\":\"white\",\"plot_bgcolor\":\"#E5ECF6\",\"polar\":{\"bgcolor\":\"#E5ECF6\",\"angularaxis\":{\"gridcolor\":\"white\",\"linecolor\":\"white\",\"ticks\":\"\"},\"radialaxis\":{\"gridcolor\":\"white\",\"linecolor\":\"white\",\"ticks\":\"\"}},\"ternary\":{\"bgcolor\":\"#E5ECF6\",\"aaxis\":{\"gridcolor\":\"white\",\"linecolor\":\"white\",\"ticks\":\"\"},\"baxis\":{\"gridcolor\":\"white\",\"linecolor\":\"white\",\"ticks\":\"\"},\"caxis\":{\"gridcolor\":\"white\",\"linecolor\":\"white\",\"ticks\":\"\"}},\"coloraxis\":{\"colorbar\":{\"outlinewidth\":0,\"ticks\":\"\"}},\"colorscale\":{\"sequential\":[[0.0,\"#0d0887\"],[0.1111111111111111,\"#46039f\"],[0.2222222222222222,\"#7201a8\"],[0.3333333333333333,\"#9c179e\"],[0.4444444444444444,\"#bd3786\"],[0.5555555555555556,\"#d8576b\"],[0.6666666666666666,\"#ed7953\"],[0.7777777777777778,\"#fb9f3a\"],[0.8888888888888888,\"#fdca26\"],[1.0,\"#f0f921\"]],\"sequentialminus\":[[0.0,\"#0d0887\"],[0.1111111111111111,\"#46039f\"],[0.2222222222222222,\"#7201a8\"],[0.3333333333333333,\"#9c179e\"],[0.4444444444444444,\"#bd3786\"],[0.5555555555555556,\"#d8576b\"],[0.6666666666666666,\"#ed7953\"],[0.7777777777777778,\"#fb9f3a\"],[0.8888888888888888,\"#fdca26\"],[1.0,\"#f0f921\"]],\"diverging\":[[0,\"#8e0152\"],[0.1,\"#c51b7d\"],[0.2,\"#de77ae\"],[0.3,\"#f1b6da\"],[0.4,\"#fde0ef\"],[0.5,\"#f7f7f7\"],[0.6,\"#e6f5d0\"],[0.7,\"#b8e186\"],[0.8,\"#7fbc41\"],[0.9,\"#4d9221\"],[1,\"#276419\"]]},\"xaxis\":{\"gridcolor\":\"white\",\"linecolor\":\"white\",\"ticks\":\"\",\"title\":{\"standoff\":15},\"zerolinecolor\":\"white\",\"automargin\":true,\"zerolinewidth\":2},\"yaxis\":{\"gridcolor\":\"white\",\"linecolor\":\"white\",\"ticks\":\"\",\"title\":{\"standoff\":15},\"zerolinecolor\":\"white\",\"automargin\":true,\"zerolinewidth\":2},\"scene\":{\"xaxis\":{\"backgroundcolor\":\"#E5ECF6\",\"gridcolor\":\"white\",\"linecolor\":\"white\",\"showbackground\":true,\"ticks\":\"\",\"zerolinecolor\":\"white\",\"gridwidth\":2},\"yaxis\":{\"backgroundcolor\":\"#E5ECF6\",\"gridcolor\":\"white\",\"linecolor\":\"white\",\"showbackground\":true,\"ticks\":\"\",\"zerolinecolor\":\"white\",\"gridwidth\":2},\"zaxis\":{\"backgroundcolor\":\"#E5ECF6\",\"gridcolor\":\"white\",\"linecolor\":\"white\",\"showbackground\":true,\"ticks\":\"\",\"zerolinecolor\":\"white\",\"gridwidth\":2}},\"shapedefaults\":{\"line\":{\"color\":\"#2a3f5f\"}},\"annotationdefaults\":{\"arrowcolor\":\"#2a3f5f\",\"arrowhead\":0,\"arrowwidth\":1},\"geo\":{\"bgcolor\":\"white\",\"landcolor\":\"#E5ECF6\",\"subunitcolor\":\"white\",\"showland\":true,\"showlakes\":true,\"lakecolor\":\"white\"},\"title\":{\"x\":0.05},\"mapbox\":{\"style\":\"light\"}}},\"xaxis\":{\"anchor\":\"y\",\"domain\":[0.0,1.0],\"title\":{\"text\":\"Frequency\"}},\"yaxis\":{\"anchor\":\"x\",\"domain\":[0.0,1.0],\"title\":{\"text\":\"Skill\"},\"categoryorder\":\"array\",\"categoryarray\":[\"cloud\",\"data science\",\"analytical\",\"computer science\",\"big data\",\"sql\",\"data analysis\",\"machine learning\",\"it skills\",\"python\"]},\"legend\":{\"title\":{\"text\":\"Skill\"},\"tracegroupgap\":0},\"margin\":{\"t\":60},\"barmode\":\"relative\",\"title\":{\"text\":\"Top 10 Skills\",\"x\":0.5},\"autosize\":false,\"width\":900,\"height\":600},                        {\"responsive\": true}                    ).then(function(){\n",
       "                            \n",
       "var gd = document.getElementById('e22f8311-4bd9-4d73-891a-9fae1db36138');\n",
       "var x = new MutationObserver(function (mutations, observer) {{\n",
       "        var display = window.getComputedStyle(gd).display;\n",
       "        if (!display || display === 'none') {{\n",
       "            console.log([gd, 'removed!']);\n",
       "            Plotly.purge(gd);\n",
       "            observer.disconnect();\n",
       "        }}\n",
       "}});\n",
       "\n",
       "// Listen for the removal of the full notebook cells\n",
       "var notebookContainer = gd.closest('#notebook-container');\n",
       "if (notebookContainer) {{\n",
       "    x.observe(notebookContainer, {childList: true});\n",
       "}}\n",
       "\n",
       "// Listen for the clearing of the current output cell\n",
       "var outputEl = gd.closest('.output');\n",
       "if (outputEl) {{\n",
       "    x.observe(outputEl, {childList: true});\n",
       "}}\n",
       "\n",
       "                        })                };                });            </script>        </div>"
      ]
     },
     "metadata": {},
     "output_type": "display_data"
    }
   ],
   "source": [
    "# plot\n",
    "\n",
    "default_color = \"grey\"\n",
    "colors = {\"python\": \"crimson\"}\n",
    "\n",
    "color_discrete_map = {\n",
    "    c: colors.get(c, default_color) \n",
    "    for c in skill_df.Skill.unique()}\n",
    "\n",
    "fig = px.bar(skill_df, x='Frequency', y='Skill',color='Skill',orientation='h',color_discrete_map=color_discrete_map)\n",
    "fig.update_layout(\n",
    "    autosize=False,\n",
    "    title_text='Top 10 Skills',\n",
    "    title_x=0.5,\n",
    "    width=900,\n",
    "    height=600)\n",
    "\n",
    "fig.show()"
   ]
  },
  {
   "cell_type": "markdown",
   "id": "dda99b5c",
   "metadata": {
    "papermill": {
     "duration": 0.029849,
     "end_time": "2022-05-18T11:14:44.045086",
     "exception": false,
     "start_time": "2022-05-18T11:14:44.015237",
     "status": "completed"
    },
    "tags": []
   },
   "source": [
    "### 3.4 Company"
   ]
  },
  {
   "cell_type": "code",
   "execution_count": 14,
   "id": "c267ddc5",
   "metadata": {
    "execution": {
     "iopub.execute_input": "2022-05-18T11:14:44.110475Z",
     "iopub.status.busy": "2022-05-18T11:14:44.109967Z",
     "iopub.status.idle": "2022-05-18T11:14:44.117822Z",
     "shell.execute_reply": "2022-05-18T11:14:44.117090Z"
    },
    "papermill": {
     "duration": 0.041705,
     "end_time": "2022-05-18T11:14:44.119800",
     "exception": false,
     "start_time": "2022-05-18T11:14:44.078095",
     "status": "completed"
    },
    "scrolled": true,
    "tags": []
   },
   "outputs": [
    {
     "data": {
      "text/plain": [
       "3507"
      ]
     },
     "execution_count": 14,
     "metadata": {},
     "output_type": "execute_result"
    }
   ],
   "source": [
    "# number of companies available\n",
    "df['Company'].nunique()"
   ]
  },
  {
   "cell_type": "code",
   "execution_count": 15,
   "id": "3ec2e277",
   "metadata": {
    "execution": {
     "iopub.execute_input": "2022-05-18T11:14:44.183669Z",
     "iopub.status.busy": "2022-05-18T11:14:44.183132Z",
     "iopub.status.idle": "2022-05-18T11:14:44.199076Z",
     "shell.execute_reply": "2022-05-18T11:14:44.198502Z"
    },
    "papermill": {
     "duration": 0.049515,
     "end_time": "2022-05-18T11:14:44.200814",
     "exception": false,
     "start_time": "2022-05-18T11:14:44.151299",
     "status": "completed"
    },
    "tags": []
   },
   "outputs": [
    {
     "data": {
      "text/html": [
       "<style type=\"text/css\">\n",
       "#T_79e2c_row0_col1 {\n",
       "  background-color: #000000;\n",
       "  color: #f1f1f1;\n",
       "}\n",
       "#T_79e2c_row1_col1 {\n",
       "  background-color: #6b6b6b;\n",
       "  color: #f1f1f1;\n",
       "}\n",
       "#T_79e2c_row2_col1 {\n",
       "  background-color: #737373;\n",
       "  color: #f1f1f1;\n",
       "}\n",
       "#T_79e2c_row3_col1 {\n",
       "  background-color: #787878;\n",
       "  color: #f1f1f1;\n",
       "}\n",
       "#T_79e2c_row4_col1 {\n",
       "  background-color: #e7e7e7;\n",
       "  color: #000000;\n",
       "}\n",
       "#T_79e2c_row5_col1 {\n",
       "  background-color: #efefef;\n",
       "  color: #000000;\n",
       "}\n",
       "#T_79e2c_row6_col1 {\n",
       "  background-color: #f6f6f6;\n",
       "  color: #000000;\n",
       "}\n",
       "#T_79e2c_row7_col1 {\n",
       "  background-color: #fbfbfb;\n",
       "  color: #000000;\n",
       "}\n",
       "#T_79e2c_row8_col1 {\n",
       "  background-color: #fcfcfc;\n",
       "  color: #000000;\n",
       "}\n",
       "#T_79e2c_row9_col1 {\n",
       "  background-color: #ffffff;\n",
       "  color: #000000;\n",
       "}\n",
       "</style>\n",
       "<table id=\"T_79e2c_\">\n",
       "  <thead>\n",
       "    <tr>\n",
       "      <th class=\"blank level0\" >&nbsp;</th>\n",
       "      <th class=\"col_heading level0 col0\" >Company</th>\n",
       "      <th class=\"col_heading level0 col1\" >Job Openings</th>\n",
       "    </tr>\n",
       "  </thead>\n",
       "  <tbody>\n",
       "    <tr>\n",
       "      <th id=\"T_79e2c_level0_row0\" class=\"row_heading level0 row0\" >0</th>\n",
       "      <td id=\"T_79e2c_row0_col0\" class=\"data row0 col0\" >Accenture</td>\n",
       "      <td id=\"T_79e2c_row0_col1\" class=\"data row0 col1\" >490</td>\n",
       "    </tr>\n",
       "    <tr>\n",
       "      <th id=\"T_79e2c_level0_row1\" class=\"row_heading level0 row1\" >1</th>\n",
       "      <td id=\"T_79e2c_row1_col0\" class=\"data row1 col0\" >IBM</td>\n",
       "      <td id=\"T_79e2c_row1_col1\" class=\"data row1 col1\" >316</td>\n",
       "    </tr>\n",
       "    <tr>\n",
       "      <th id=\"T_79e2c_level0_row2\" class=\"row_heading level0 row2\" >2</th>\n",
       "      <td id=\"T_79e2c_row2_col0\" class=\"data row2 col0\" >Infostretch solutions Pvt. Ltd.</td>\n",
       "      <td id=\"T_79e2c_row2_col1\" class=\"data row2 col1\" >304</td>\n",
       "    </tr>\n",
       "    <tr>\n",
       "      <th id=\"T_79e2c_level0_row3\" class=\"row_heading level0 row3\" >3</th>\n",
       "      <td id=\"T_79e2c_row3_col0\" class=\"data row3 col0\" >Huquo Consulting Pvt. Ltd</td>\n",
       "      <td id=\"T_79e2c_row3_col1\" class=\"data row3 col1\" >295</td>\n",
       "    </tr>\n",
       "    <tr>\n",
       "      <th id=\"T_79e2c_level0_row4\" class=\"row_heading level0 row4\" >4</th>\n",
       "      <td id=\"T_79e2c_row4_col0\" class=\"data row4 col0\" >Anicalls</td>\n",
       "      <td id=\"T_79e2c_row4_col1\" class=\"data row4 col1\" >115</td>\n",
       "    </tr>\n",
       "    <tr>\n",
       "      <th id=\"T_79e2c_level0_row5\" class=\"row_heading level0 row5\" >5</th>\n",
       "      <td id=\"T_79e2c_row5_col0\" class=\"data row5 col0\" >BNY Mellon</td>\n",
       "      <td id=\"T_79e2c_row5_col1\" class=\"data row5 col1\" >103</td>\n",
       "    </tr>\n",
       "    <tr>\n",
       "      <th id=\"T_79e2c_level0_row6\" class=\"row_heading level0 row6\" >6</th>\n",
       "      <td id=\"T_79e2c_row6_col0\" class=\"data row6 col0\" >Microsoft</td>\n",
       "      <td id=\"T_79e2c_row6_col1\" class=\"data row6 col1\" >92</td>\n",
       "    </tr>\n",
       "    <tr>\n",
       "      <th id=\"T_79e2c_level0_row7\" class=\"row_heading level0 row7\" >7</th>\n",
       "      <td id=\"T_79e2c_row7_col0\" class=\"data row7 col0\" >Deutsche Bank</td>\n",
       "      <td id=\"T_79e2c_row7_col1\" class=\"data row7 col1\" >84</td>\n",
       "    </tr>\n",
       "    <tr>\n",
       "      <th id=\"T_79e2c_level0_row8\" class=\"row_heading level0 row8\" >8</th>\n",
       "      <td id=\"T_79e2c_row8_col0\" class=\"data row8 col0\" >Career Infosystem</td>\n",
       "      <td id=\"T_79e2c_row8_col1\" class=\"data row8 col1\" >82</td>\n",
       "    </tr>\n",
       "    <tr>\n",
       "      <th id=\"T_79e2c_level0_row9\" class=\"row_heading level0 row9\" >9</th>\n",
       "      <td id=\"T_79e2c_row9_col0\" class=\"data row9 col0\" >Serving Skill</td>\n",
       "      <td id=\"T_79e2c_row9_col1\" class=\"data row9 col1\" >76</td>\n",
       "    </tr>\n",
       "  </tbody>\n",
       "</table>\n"
      ],
      "text/plain": [
       "<pandas.io.formats.style.Styler at 0x7fc6b9416550>"
      ]
     },
     "execution_count": 15,
     "metadata": {},
     "output_type": "execute_result"
    }
   ],
   "source": [
    "# top 10 companies\n",
    "df_company=df['Company'].value_counts()[:10].rename_axis('Company').reset_index(name='Job Openings')\n",
    "df_company.style.background_gradient(cmap='binary')"
   ]
  },
  {
   "cell_type": "code",
   "execution_count": 16,
   "id": "6e01b1bb",
   "metadata": {
    "execution": {
     "iopub.execute_input": "2022-05-18T11:14:44.264733Z",
     "iopub.status.busy": "2022-05-18T11:14:44.264233Z",
     "iopub.status.idle": "2022-05-18T11:14:44.375869Z",
     "shell.execute_reply": "2022-05-18T11:14:44.375032Z"
    },
    "papermill": {
     "duration": 0.145849,
     "end_time": "2022-05-18T11:14:44.377940",
     "exception": false,
     "start_time": "2022-05-18T11:14:44.232091",
     "status": "completed"
    },
    "tags": []
   },
   "outputs": [
    {
     "data": {
      "text/html": [
       "<div>                            <div id=\"f2e8bca6-2769-4cc1-8653-73bc682d93f5\" class=\"plotly-graph-div\" style=\"height:720px; width:1000px;\"></div>            <script type=\"text/javascript\">                require([\"plotly\"], function(Plotly) {                    window.PLOTLYENV=window.PLOTLYENV || {};                                    if (document.getElementById(\"f2e8bca6-2769-4cc1-8653-73bc682d93f5\")) {                    Plotly.newPlot(                        \"f2e8bca6-2769-4cc1-8653-73bc682d93f5\",                        [{\"branchvalues\":\"total\",\"domain\":{\"x\":[0.0,1.0],\"y\":[0.0,1.0]},\"hovertemplate\":\"labels=%{label}<br>count=%{value}<br>parent=%{parent}<br>id=%{id}<extra></extra>\",\"ids\":[\"Serving Skill/AWS / Python Data Engineer - Terraform / Java\",\"Huquo Consulting Pvt. Ltd/Analyst - Data Science - Python/Machine Learning/Analytics\",\"Deutsche Bank/Analytics Analyst\",\"Anicalls/Artificial Intelligence Data Engineer\",\"Huquo Consulting Pvt. Ltd/Assistant Manager/Manager/Senior Manager - Data Scientist\",\"Huquo Consulting Pvt. Ltd/Associate Vice President- Analytics/Data Science- IIM/IIT/XLRI/FMS/NIT\",\"Serving Skill/Azure Data Engineer - Data Factory/DataLake\",\"Career Infosystem/Business Analyst\",\"Serving Skill/Business Analyst - IT\",\"Microsoft/Data & Applied Scientist\",\"Infostretch solutions Pvt. Ltd./Data Engineer\",\"Serving Skill/Data Engineer - Kafka/Spark\",\"Career Infosystem/Data Engineer - Visualization/Reporting Tools\",\"IBM/Data Engineer: Big Data\",\"IBM/Data Engineer: Data Integration\",\"IBM/Data Engineer: Data Modeling\",\"IBM/Data Engineer: Enterprise Content Management\",\"Accenture/Data Engineering Application Developer\",\"Accenture/Data Engineering Application Lead\",\"Anicalls/Data Mining Analyst\",\"Deutsche Bank/Data Platform Engineer\",\"Huquo Consulting Pvt. Ltd/Data Scientist - Insurance - IIM/ IIT/ NIT\",\"Career Infosystem/Data Scientist - Machine Learning\",\"IBM/Data Scientist: Artificial Intelligence\",\"Deutsche Bank/Know Your Client (KYC) Analyst\",\"BNY Mellon/Ld. Front-End Dev\",\"BNY Mellon/Ld. Full-Stack Dev\",\"Anicalls/Lead Data Engineer\",\"Huquo Consulting Pvt. Ltd/Manager - Data Scientist - Analytics\",\"Deutsche Bank/Market Risk Analyst\",\"Career Infosystem/Oracle Fusion/HCM Analyst - E2E Implementation\",\"Deutsche Bank/Reference Data Analyst\",\"Accenture/Senior Analyst-Data Maintenance\",\"Accenture/Senior Analyst-Data Management\",\"Accenture/Senior Analyst-Data Visualization\",\"Career Infosystem/Senior Big Data Developer - Hadoop/sql\",\"Anicalls/Senior Business Systems Analyst, En...\",\"Microsoft/Senior Data & Applied Scientist\",\"Anicalls/Senior Data Engineer\",\"Infostretch solutions Pvt. Ltd./Senior Data Engineer\",\"Serving Skill/Senior Data Engineer - Python/Scala\",\"Infostretch solutions Pvt. Ltd./Senior Software Engineer\",\"Microsoft/Senior Software Engineer\",\"Infostretch solutions Pvt. Ltd./Senior Technical Lead (Data Engineer)\",\"Infostretch solutions Pvt. Ltd./Senior Technical Lead - Data Engineer\",\"Microsoft/Software Engineer\",\"Microsoft/Software Engineer II\",\"BNY Mellon/Spec, Full-Stack Dev\",\"BNY Mellon/Sr. Full-Stack Dev\",\"BNY Mellon/Sr. Spec, Back-End Dev\",\"Accenture\",\"Anicalls\",\"BNY Mellon\",\"Career Infosystem\",\"Deutsche Bank\",\"Huquo Consulting Pvt. Ltd\",\"IBM\",\"Infostretch solutions Pvt. Ltd.\",\"Microsoft\",\"Serving Skill\"],\"labels\":[\"AWS / Python Data Engineer - Terraform / Java\",\"Analyst - Data Science - Python/Machine Learning/Analytics\",\"Analytics Analyst\",\"Artificial Intelligence Data Engineer\",\"Assistant Manager/Manager/Senior Manager - Data Scientist\",\"Associate Vice President- Analytics/Data Science- IIM/IIT/XLRI/FMS/NIT\",\"Azure Data Engineer - Data Factory/DataLake\",\"Business Analyst\",\"Business Analyst - IT\",\"Data & Applied Scientist\",\"Data Engineer\",\"Data Engineer - Kafka/Spark\",\"Data Engineer - Visualization/Reporting Tools\",\"Data Engineer: Big Data\",\"Data Engineer: Data Integration\",\"Data Engineer: Data Modeling\",\"Data Engineer: Enterprise Content Management\",\"Data Engineering Application Developer\",\"Data Engineering Application Lead\",\"Data Mining Analyst\",\"Data Platform Engineer\",\"Data Scientist - Insurance - IIM/ IIT/ NIT\",\"Data Scientist - Machine Learning\",\"Data Scientist: Artificial Intelligence\",\"Know Your Client (KYC) Analyst\",\"Ld. Front-End Dev\",\"Ld. Full-Stack Dev\",\"Lead Data Engineer\",\"Manager - Data Scientist - Analytics\",\"Market Risk Analyst\",\"Oracle Fusion/HCM Analyst - E2E Implementation\",\"Reference Data Analyst\",\"Senior Analyst-Data Maintenance\",\"Senior Analyst-Data Management\",\"Senior Analyst-Data Visualization\",\"Senior Big Data Developer - Hadoop/sql\",\"Senior Business Systems Analyst, En...\",\"Senior Data & Applied Scientist\",\"Senior Data Engineer\",\"Senior Data Engineer\",\"Senior Data Engineer - Python/Scala\",\"Senior Software Engineer\",\"Senior Software Engineer\",\"Senior Technical Lead (Data Engineer)\",\"Senior Technical Lead - Data Engineer\",\"Software Engineer\",\"Software Engineer II\",\"Spec, Full-Stack Dev\",\"Sr. Full-Stack Dev\",\"Sr. Spec, Back-End Dev\",\"Accenture\",\"Anicalls\",\"BNY Mellon\",\"Career Infosystem\",\"Deutsche Bank\",\"Huquo Consulting Pvt. Ltd\",\"IBM\",\"Infostretch solutions Pvt. Ltd.\",\"Microsoft\",\"Serving Skill\"],\"name\":\"\",\"parents\":[\"Serving Skill\",\"Huquo Consulting Pvt. Ltd\",\"Deutsche Bank\",\"Anicalls\",\"Huquo Consulting Pvt. Ltd\",\"Huquo Consulting Pvt. Ltd\",\"Serving Skill\",\"Career Infosystem\",\"Serving Skill\",\"Microsoft\",\"Infostretch solutions Pvt. Ltd.\",\"Serving Skill\",\"Career Infosystem\",\"IBM\",\"IBM\",\"IBM\",\"IBM\",\"Accenture\",\"Accenture\",\"Anicalls\",\"Deutsche Bank\",\"Huquo Consulting Pvt. Ltd\",\"Career Infosystem\",\"IBM\",\"Deutsche Bank\",\"BNY Mellon\",\"BNY Mellon\",\"Anicalls\",\"Huquo Consulting Pvt. Ltd\",\"Deutsche Bank\",\"Career Infosystem\",\"Deutsche Bank\",\"Accenture\",\"Accenture\",\"Accenture\",\"Career Infosystem\",\"Anicalls\",\"Microsoft\",\"Anicalls\",\"Infostretch solutions Pvt. Ltd.\",\"Serving Skill\",\"Infostretch solutions Pvt. Ltd.\",\"Microsoft\",\"Infostretch solutions Pvt. Ltd.\",\"Infostretch solutions Pvt. Ltd.\",\"Microsoft\",\"Microsoft\",\"BNY Mellon\",\"BNY Mellon\",\"BNY Mellon\",\"\",\"\",\"\",\"\",\"\",\"\",\"\",\"\",\"\",\"\"],\"values\":[1,1,1,1,1,1,1,1,1,1,1,1,1,1,1,1,1,1,1,1,1,1,1,1,1,1,1,1,1,1,1,1,1,1,1,1,1,1,1,1,1,1,1,1,1,1,1,1,1,1,5,5,5,5,5,5,5,5,5,5],\"type\":\"sunburst\"}],                        {\"template\":{\"data\":{\"histogram2dcontour\":[{\"type\":\"histogram2dcontour\",\"colorbar\":{\"outlinewidth\":0,\"ticks\":\"\"},\"colorscale\":[[0.0,\"#0d0887\"],[0.1111111111111111,\"#46039f\"],[0.2222222222222222,\"#7201a8\"],[0.3333333333333333,\"#9c179e\"],[0.4444444444444444,\"#bd3786\"],[0.5555555555555556,\"#d8576b\"],[0.6666666666666666,\"#ed7953\"],[0.7777777777777778,\"#fb9f3a\"],[0.8888888888888888,\"#fdca26\"],[1.0,\"#f0f921\"]]}],\"choropleth\":[{\"type\":\"choropleth\",\"colorbar\":{\"outlinewidth\":0,\"ticks\":\"\"}}],\"histogram2d\":[{\"type\":\"histogram2d\",\"colorbar\":{\"outlinewidth\":0,\"ticks\":\"\"},\"colorscale\":[[0.0,\"#0d0887\"],[0.1111111111111111,\"#46039f\"],[0.2222222222222222,\"#7201a8\"],[0.3333333333333333,\"#9c179e\"],[0.4444444444444444,\"#bd3786\"],[0.5555555555555556,\"#d8576b\"],[0.6666666666666666,\"#ed7953\"],[0.7777777777777778,\"#fb9f3a\"],[0.8888888888888888,\"#fdca26\"],[1.0,\"#f0f921\"]]}],\"heatmap\":[{\"type\":\"heatmap\",\"colorbar\":{\"outlinewidth\":0,\"ticks\":\"\"},\"colorscale\":[[0.0,\"#0d0887\"],[0.1111111111111111,\"#46039f\"],[0.2222222222222222,\"#7201a8\"],[0.3333333333333333,\"#9c179e\"],[0.4444444444444444,\"#bd3786\"],[0.5555555555555556,\"#d8576b\"],[0.6666666666666666,\"#ed7953\"],[0.7777777777777778,\"#fb9f3a\"],[0.8888888888888888,\"#fdca26\"],[1.0,\"#f0f921\"]]}],\"heatmapgl\":[{\"type\":\"heatmapgl\",\"colorbar\":{\"outlinewidth\":0,\"ticks\":\"\"},\"colorscale\":[[0.0,\"#0d0887\"],[0.1111111111111111,\"#46039f\"],[0.2222222222222222,\"#7201a8\"],[0.3333333333333333,\"#9c179e\"],[0.4444444444444444,\"#bd3786\"],[0.5555555555555556,\"#d8576b\"],[0.6666666666666666,\"#ed7953\"],[0.7777777777777778,\"#fb9f3a\"],[0.8888888888888888,\"#fdca26\"],[1.0,\"#f0f921\"]]}],\"contourcarpet\":[{\"type\":\"contourcarpet\",\"colorbar\":{\"outlinewidth\":0,\"ticks\":\"\"}}],\"contour\":[{\"type\":\"contour\",\"colorbar\":{\"outlinewidth\":0,\"ticks\":\"\"},\"colorscale\":[[0.0,\"#0d0887\"],[0.1111111111111111,\"#46039f\"],[0.2222222222222222,\"#7201a8\"],[0.3333333333333333,\"#9c179e\"],[0.4444444444444444,\"#bd3786\"],[0.5555555555555556,\"#d8576b\"],[0.6666666666666666,\"#ed7953\"],[0.7777777777777778,\"#fb9f3a\"],[0.8888888888888888,\"#fdca26\"],[1.0,\"#f0f921\"]]}],\"surface\":[{\"type\":\"surface\",\"colorbar\":{\"outlinewidth\":0,\"ticks\":\"\"},\"colorscale\":[[0.0,\"#0d0887\"],[0.1111111111111111,\"#46039f\"],[0.2222222222222222,\"#7201a8\"],[0.3333333333333333,\"#9c179e\"],[0.4444444444444444,\"#bd3786\"],[0.5555555555555556,\"#d8576b\"],[0.6666666666666666,\"#ed7953\"],[0.7777777777777778,\"#fb9f3a\"],[0.8888888888888888,\"#fdca26\"],[1.0,\"#f0f921\"]]}],\"mesh3d\":[{\"type\":\"mesh3d\",\"colorbar\":{\"outlinewidth\":0,\"ticks\":\"\"}}],\"scatter\":[{\"fillpattern\":{\"fillmode\":\"overlay\",\"size\":10,\"solidity\":0.2},\"type\":\"scatter\"}],\"parcoords\":[{\"type\":\"parcoords\",\"line\":{\"colorbar\":{\"outlinewidth\":0,\"ticks\":\"\"}}}],\"scatterpolargl\":[{\"type\":\"scatterpolargl\",\"marker\":{\"colorbar\":{\"outlinewidth\":0,\"ticks\":\"\"}}}],\"bar\":[{\"error_x\":{\"color\":\"#2a3f5f\"},\"error_y\":{\"color\":\"#2a3f5f\"},\"marker\":{\"line\":{\"color\":\"#E5ECF6\",\"width\":0.5},\"pattern\":{\"fillmode\":\"overlay\",\"size\":10,\"solidity\":0.2}},\"type\":\"bar\"}],\"scattergeo\":[{\"type\":\"scattergeo\",\"marker\":{\"colorbar\":{\"outlinewidth\":0,\"ticks\":\"\"}}}],\"scatterpolar\":[{\"type\":\"scatterpolar\",\"marker\":{\"colorbar\":{\"outlinewidth\":0,\"ticks\":\"\"}}}],\"histogram\":[{\"marker\":{\"pattern\":{\"fillmode\":\"overlay\",\"size\":10,\"solidity\":0.2}},\"type\":\"histogram\"}],\"scattergl\":[{\"type\":\"scattergl\",\"marker\":{\"colorbar\":{\"outlinewidth\":0,\"ticks\":\"\"}}}],\"scatter3d\":[{\"type\":\"scatter3d\",\"line\":{\"colorbar\":{\"outlinewidth\":0,\"ticks\":\"\"}},\"marker\":{\"colorbar\":{\"outlinewidth\":0,\"ticks\":\"\"}}}],\"scattermapbox\":[{\"type\":\"scattermapbox\",\"marker\":{\"colorbar\":{\"outlinewidth\":0,\"ticks\":\"\"}}}],\"scatterternary\":[{\"type\":\"scatterternary\",\"marker\":{\"colorbar\":{\"outlinewidth\":0,\"ticks\":\"\"}}}],\"scattercarpet\":[{\"type\":\"scattercarpet\",\"marker\":{\"colorbar\":{\"outlinewidth\":0,\"ticks\":\"\"}}}],\"carpet\":[{\"aaxis\":{\"endlinecolor\":\"#2a3f5f\",\"gridcolor\":\"white\",\"linecolor\":\"white\",\"minorgridcolor\":\"white\",\"startlinecolor\":\"#2a3f5f\"},\"baxis\":{\"endlinecolor\":\"#2a3f5f\",\"gridcolor\":\"white\",\"linecolor\":\"white\",\"minorgridcolor\":\"white\",\"startlinecolor\":\"#2a3f5f\"},\"type\":\"carpet\"}],\"table\":[{\"cells\":{\"fill\":{\"color\":\"#EBF0F8\"},\"line\":{\"color\":\"white\"}},\"header\":{\"fill\":{\"color\":\"#C8D4E3\"},\"line\":{\"color\":\"white\"}},\"type\":\"table\"}],\"barpolar\":[{\"marker\":{\"line\":{\"color\":\"#E5ECF6\",\"width\":0.5},\"pattern\":{\"fillmode\":\"overlay\",\"size\":10,\"solidity\":0.2}},\"type\":\"barpolar\"}],\"pie\":[{\"automargin\":true,\"type\":\"pie\"}]},\"layout\":{\"autotypenumbers\":\"strict\",\"colorway\":[\"#636efa\",\"#EF553B\",\"#00cc96\",\"#ab63fa\",\"#FFA15A\",\"#19d3f3\",\"#FF6692\",\"#B6E880\",\"#FF97FF\",\"#FECB52\"],\"font\":{\"color\":\"#2a3f5f\"},\"hovermode\":\"closest\",\"hoverlabel\":{\"align\":\"left\"},\"paper_bgcolor\":\"white\",\"plot_bgcolor\":\"#E5ECF6\",\"polar\":{\"bgcolor\":\"#E5ECF6\",\"angularaxis\":{\"gridcolor\":\"white\",\"linecolor\":\"white\",\"ticks\":\"\"},\"radialaxis\":{\"gridcolor\":\"white\",\"linecolor\":\"white\",\"ticks\":\"\"}},\"ternary\":{\"bgcolor\":\"#E5ECF6\",\"aaxis\":{\"gridcolor\":\"white\",\"linecolor\":\"white\",\"ticks\":\"\"},\"baxis\":{\"gridcolor\":\"white\",\"linecolor\":\"white\",\"ticks\":\"\"},\"caxis\":{\"gridcolor\":\"white\",\"linecolor\":\"white\",\"ticks\":\"\"}},\"coloraxis\":{\"colorbar\":{\"outlinewidth\":0,\"ticks\":\"\"}},\"colorscale\":{\"sequential\":[[0.0,\"#0d0887\"],[0.1111111111111111,\"#46039f\"],[0.2222222222222222,\"#7201a8\"],[0.3333333333333333,\"#9c179e\"],[0.4444444444444444,\"#bd3786\"],[0.5555555555555556,\"#d8576b\"],[0.6666666666666666,\"#ed7953\"],[0.7777777777777778,\"#fb9f3a\"],[0.8888888888888888,\"#fdca26\"],[1.0,\"#f0f921\"]],\"sequentialminus\":[[0.0,\"#0d0887\"],[0.1111111111111111,\"#46039f\"],[0.2222222222222222,\"#7201a8\"],[0.3333333333333333,\"#9c179e\"],[0.4444444444444444,\"#bd3786\"],[0.5555555555555556,\"#d8576b\"],[0.6666666666666666,\"#ed7953\"],[0.7777777777777778,\"#fb9f3a\"],[0.8888888888888888,\"#fdca26\"],[1.0,\"#f0f921\"]],\"diverging\":[[0,\"#8e0152\"],[0.1,\"#c51b7d\"],[0.2,\"#de77ae\"],[0.3,\"#f1b6da\"],[0.4,\"#fde0ef\"],[0.5,\"#f7f7f7\"],[0.6,\"#e6f5d0\"],[0.7,\"#b8e186\"],[0.8,\"#7fbc41\"],[0.9,\"#4d9221\"],[1,\"#276419\"]]},\"xaxis\":{\"gridcolor\":\"white\",\"linecolor\":\"white\",\"ticks\":\"\",\"title\":{\"standoff\":15},\"zerolinecolor\":\"white\",\"automargin\":true,\"zerolinewidth\":2},\"yaxis\":{\"gridcolor\":\"white\",\"linecolor\":\"white\",\"ticks\":\"\",\"title\":{\"standoff\":15},\"zerolinecolor\":\"white\",\"automargin\":true,\"zerolinewidth\":2},\"scene\":{\"xaxis\":{\"backgroundcolor\":\"#E5ECF6\",\"gridcolor\":\"white\",\"linecolor\":\"white\",\"showbackground\":true,\"ticks\":\"\",\"zerolinecolor\":\"white\",\"gridwidth\":2},\"yaxis\":{\"backgroundcolor\":\"#E5ECF6\",\"gridcolor\":\"white\",\"linecolor\":\"white\",\"showbackground\":true,\"ticks\":\"\",\"zerolinecolor\":\"white\",\"gridwidth\":2},\"zaxis\":{\"backgroundcolor\":\"#E5ECF6\",\"gridcolor\":\"white\",\"linecolor\":\"white\",\"showbackground\":true,\"ticks\":\"\",\"zerolinecolor\":\"white\",\"gridwidth\":2}},\"shapedefaults\":{\"line\":{\"color\":\"#2a3f5f\"}},\"annotationdefaults\":{\"arrowcolor\":\"#2a3f5f\",\"arrowhead\":0,\"arrowwidth\":1},\"geo\":{\"bgcolor\":\"white\",\"landcolor\":\"#E5ECF6\",\"subunitcolor\":\"white\",\"showland\":true,\"showlakes\":true,\"lakecolor\":\"white\"},\"title\":{\"x\":0.05},\"mapbox\":{\"style\":\"light\"}}},\"legend\":{\"tracegroupgap\":0},\"margin\":{\"t\":60},\"title\":{\"text\":\"Top Job Providers and Jobs\",\"x\":0.5},\"autosize\":false,\"width\":1000,\"height\":720},                        {\"responsive\": true}                    ).then(function(){\n",
       "                            \n",
       "var gd = document.getElementById('f2e8bca6-2769-4cc1-8653-73bc682d93f5');\n",
       "var x = new MutationObserver(function (mutations, observer) {{\n",
       "        var display = window.getComputedStyle(gd).display;\n",
       "        if (!display || display === 'none') {{\n",
       "            console.log([gd, 'removed!']);\n",
       "            Plotly.purge(gd);\n",
       "            observer.disconnect();\n",
       "        }}\n",
       "}});\n",
       "\n",
       "// Listen for the removal of the full notebook cells\n",
       "var notebookContainer = gd.closest('#notebook-container');\n",
       "if (notebookContainer) {{\n",
       "    x.observe(notebookContainer, {childList: true});\n",
       "}}\n",
       "\n",
       "// Listen for the clearing of the current output cell\n",
       "var outputEl = gd.closest('.output');\n",
       "if (outputEl) {{\n",
       "    x.observe(outputEl, {childList: true});\n",
       "}}\n",
       "\n",
       "                        })                };                });            </script>        </div>"
      ]
     },
     "metadata": {},
     "output_type": "display_data"
    }
   ],
   "source": [
    "## Companies and Jobs\n",
    "\n",
    "dataframe = pd.DataFrame()\n",
    "\n",
    "for company in df_company['Company']:\n",
    "    df1 = df[df['Company']==company]\n",
    "    jobs = [job for job in df1['Job_Role']]\n",
    "    fdist = FreqDist(jobs)\n",
    "    fdist_df=pd.DataFrame(list(dict(fdist).items()), columns=['jobs', 'count'])\n",
    "    fdist_df= fdist_df.sort_values(by='count', ascending=False)[:5]\n",
    "    fdist_df = fdist_df.assign(company=company)\n",
    "    dataframe=dataframe.append(fdist_df)\n",
    "    \n",
    "dataframe.head()\n",
    "    \n",
    "# Creating sunburst chart\n",
    "fig = px.sunburst(dataframe,\n",
    "                  path=['company', 'jobs'])\n",
    "\n",
    "fig.update_layout(\n",
    "    autosize=False,\n",
    "    title_text='Top Job Providers and Jobs',\n",
    "    title_x=0.5,\n",
    "    width=1000,\n",
    "    height=720)\n",
    "\n",
    "# Display the figure\n",
    "fig.show()"
   ]
  },
  {
   "cell_type": "markdown",
   "id": "53aec666",
   "metadata": {
    "papermill": {
     "duration": 0.031188,
     "end_time": "2022-05-18T11:14:44.440615",
     "exception": false,
     "start_time": "2022-05-18T11:14:44.409427",
     "status": "completed"
    },
    "tags": []
   },
   "source": [
    "### 3.5 Job Experience"
   ]
  },
  {
   "cell_type": "code",
   "execution_count": 17,
   "id": "1d42439e",
   "metadata": {
    "execution": {
     "iopub.execute_input": "2022-05-18T11:14:44.506099Z",
     "iopub.status.busy": "2022-05-18T11:14:44.505666Z",
     "iopub.status.idle": "2022-05-18T11:14:44.512991Z",
     "shell.execute_reply": "2022-05-18T11:14:44.512103Z"
    },
    "papermill": {
     "duration": 0.041714,
     "end_time": "2022-05-18T11:14:44.514880",
     "exception": false,
     "start_time": "2022-05-18T11:14:44.473166",
     "status": "completed"
    },
    "scrolled": true,
    "tags": []
   },
   "outputs": [
    {
     "data": {
      "text/plain": [
       "5-10    944\n",
       "2-5     833\n",
       "3-8     690\n",
       "3-5     589\n",
       "4-9     582\n",
       "2-7     537\n",
       "3-6     504\n",
       "5-8     495\n",
       "3-7     454\n",
       "4-8     445\n",
       "Name: Job Experience, dtype: int64"
      ]
     },
     "execution_count": 17,
     "metadata": {},
     "output_type": "execute_result"
    }
   ],
   "source": [
    "# top 10 values in 'Job Experience'\n",
    "df['Job Experience'].value_counts()[:10]"
   ]
  },
  {
   "cell_type": "code",
   "execution_count": 18,
   "id": "a04b7f72",
   "metadata": {
    "execution": {
     "iopub.execute_input": "2022-05-18T11:14:44.580160Z",
     "iopub.status.busy": "2022-05-18T11:14:44.579644Z",
     "iopub.status.idle": "2022-05-18T11:14:44.591967Z",
     "shell.execute_reply": "2022-05-18T11:14:44.591360Z"
    },
    "papermill": {
     "duration": 0.04735,
     "end_time": "2022-05-18T11:14:44.593781",
     "exception": false,
     "start_time": "2022-05-18T11:14:44.546431",
     "status": "completed"
    },
    "tags": []
   },
   "outputs": [
    {
     "data": {
      "text/plain": [
       "['12 May - 21 May',\n",
       " 'B.Tech/B.E.',\n",
       " '16 May - 22 May',\n",
       " '18 May',\n",
       " '12 May - 21 May',\n",
       " '17 May - 26 May',\n",
       " '18 May']"
      ]
     },
     "execution_count": 18,
     "metadata": {},
     "output_type": "execute_result"
    }
   ],
   "source": [
    "# outliers in 'Job Experience' column\n",
    "lst=[]\n",
    "for i in df['Job Experience']:\n",
    "    c=False\n",
    "    for j in i:\n",
    "        if j.isalpha():\n",
    "            c=True\n",
    "    if c==True:\n",
    "        lst.append(i)\n",
    "        \n",
    "lst"
   ]
  },
  {
   "cell_type": "code",
   "execution_count": 19,
   "id": "5acf4c48",
   "metadata": {
    "execution": {
     "iopub.execute_input": "2022-05-18T11:14:44.659332Z",
     "iopub.status.busy": "2022-05-18T11:14:44.658844Z",
     "iopub.status.idle": "2022-05-18T11:14:44.675818Z",
     "shell.execute_reply": "2022-05-18T11:14:44.675216Z"
    },
    "papermill": {
     "duration": 0.052832,
     "end_time": "2022-05-18T11:14:44.678265",
     "exception": false,
     "start_time": "2022-05-18T11:14:44.625433",
     "status": "completed"
    },
    "tags": []
   },
   "outputs": [],
   "source": [
    "# removing outliers\n",
    "for j in lst:\n",
    "    df=df[df['Job Experience'] != j]"
   ]
  },
  {
   "cell_type": "code",
   "execution_count": 20,
   "id": "def435ae",
   "metadata": {
    "execution": {
     "iopub.execute_input": "2022-05-18T11:14:44.744029Z",
     "iopub.status.busy": "2022-05-18T11:14:44.743496Z",
     "iopub.status.idle": "2022-05-18T11:14:44.763564Z",
     "shell.execute_reply": "2022-05-18T11:14:44.762989Z"
    },
    "papermill": {
     "duration": 0.055573,
     "end_time": "2022-05-18T11:14:44.765781",
     "exception": false,
     "start_time": "2022-05-18T11:14:44.710208",
     "status": "completed"
    },
    "scrolled": true,
    "tags": []
   },
   "outputs": [],
   "source": [
    "# new features\n",
    "df['Min. Exp.'] = df['Job Experience'].apply(MinExp)\n",
    "df['Max. Exp.'] = df['Job Experience'].apply(MaxExp)"
   ]
  },
  {
   "cell_type": "code",
   "execution_count": 21,
   "id": "07445bea",
   "metadata": {
    "execution": {
     "iopub.execute_input": "2022-05-18T11:14:44.832169Z",
     "iopub.status.busy": "2022-05-18T11:14:44.831728Z",
     "iopub.status.idle": "2022-05-18T11:14:45.520738Z",
     "shell.execute_reply": "2022-05-18T11:14:45.519920Z"
    },
    "papermill": {
     "duration": 0.724876,
     "end_time": "2022-05-18T11:14:45.523420",
     "exception": false,
     "start_time": "2022-05-18T11:14:44.798544",
     "status": "completed"
    },
    "tags": []
   },
   "outputs": [
    {
     "data": {
      "image/png": "[encoded data removed]",
      "text/plain": [
       "<Figure size 1722x861 with 4 Axes>"
      ]
     },
     "metadata": {},
     "output_type": "display_data"
    }
   ],
   "source": [
    "# plot - Job Experience Demanded in Data Science Roles in India\n",
    "\n",
    "fig = plt.figure(figsize=(14, 7), dpi=123, facecolor='#e4e5e9')\n",
    "spec = fig.add_gridspec(ncols=6, nrows=2)\n",
    "\n",
    "ax0 = fig.add_subplot(spec[0, :4])\n",
    "sns.countplot(x='Min. Exp.',data=df, color='#657ffb', edgecolor='black')\n",
    "plt.ylabel(\"Job Count\", fontsize=11)\n",
    "plt.xlabel('Minimum Experience', fontsize=11)\n",
    "plt.xlim(0,20)\n",
    "plt.ylim(0,2400)\n",
    "\n",
    "ax1 = fig.add_subplot(spec[1, :4])\n",
    "sns.countplot(x='Max. Exp.',data=df, color='#bad2ef',  edgecolor='black')\n",
    "plt.ylabel(\"Job Count\", fontsize=11)\n",
    "plt.xlabel('Maximum Experience', fontsize=11)\n",
    "plt.ylim(0,2400)\n",
    "# plt.xlim(0,20)\n",
    "\n",
    "ax2 = fig.add_subplot(spec[:, 4])\n",
    "sns.boxplot(y=df['Min. Exp.'], color='#657ffb')\n",
    "plt.xlabel('Minimum Experience',labelpad=5, fontsize=10)\n",
    "plt.ylim(0,31)\n",
    "plt.ylabel('')\n",
    "\n",
    "ax3 = fig.add_subplot(spec[:, 5])\n",
    "sns.boxplot(y=df['Max. Exp.'], color='#BAD2EF')\n",
    "plt.xlabel('Maximum Experience',labelpad=5, fontsize=10)\n",
    "plt.ylabel('')\n",
    "plt.ylim(0,31)\n",
    "\n",
    "for ax in [ax0,ax1,ax2,ax3]:\n",
    "    ax.patch.set_alpha(0.0)\n",
    "    ax.spines['top'].set_visible(False)\n",
    "    ax.spines['right'].set_visible(False)\n",
    "\n",
    "fig.suptitle('Job Experience Demanded in Data Science Roles in India', fontsize=17, y=1)\n",
    "plt.show()"
   ]
  },
  {
   "cell_type": "code",
   "execution_count": 22,
   "id": "b5b62230",
   "metadata": {
    "execution": {
     "iopub.execute_input": "2022-05-18T11:14:45.594420Z",
     "iopub.status.busy": "2022-05-18T11:14:45.594126Z",
     "iopub.status.idle": "2022-05-18T11:14:45.629329Z",
     "shell.execute_reply": "2022-05-18T11:14:45.628200Z"
    },
    "papermill": {
     "duration": 0.073598,
     "end_time": "2022-05-18T11:14:45.631784",
     "exception": false,
     "start_time": "2022-05-18T11:14:45.558186",
     "status": "completed"
    },
    "tags": []
   },
   "outputs": [
    {
     "data": {
      "text/html": [
       "<div>\n",
       "<style scoped>\n",
       "    .dataframe tbody tr th:only-of-type {\n",
       "        vertical-align: middle;\n",
       "    }\n",
       "\n",
       "    .dataframe tbody tr th {\n",
       "        vertical-align: top;\n",
       "    }\n",
       "\n",
       "    .dataframe thead th {\n",
       "        text-align: right;\n",
       "    }\n",
       "</style>\n",
       "<table border=\"1\" class=\"dataframe\">\n",
       "  <thead>\n",
       "    <tr style=\"text-align: right;\">\n",
       "      <th></th>\n",
       "      <th>Jobs</th>\n",
       "      <th>Average Min. Exp</th>\n",
       "    </tr>\n",
       "  </thead>\n",
       "  <tbody>\n",
       "    <tr>\n",
       "      <th>3</th>\n",
       "      <td>Senior Technical Lead (Data Engineer)</td>\n",
       "      <td>4.99</td>\n",
       "    </tr>\n",
       "    <tr>\n",
       "      <th>5</th>\n",
       "      <td>Senior Data Engineer</td>\n",
       "      <td>4.65</td>\n",
       "    </tr>\n",
       "    <tr>\n",
       "      <th>6</th>\n",
       "      <td>Senior Data Scientist</td>\n",
       "      <td>4.65</td>\n",
       "    </tr>\n",
       "    <tr>\n",
       "      <th>7</th>\n",
       "      <td>Azure Data Engineer</td>\n",
       "      <td>4.12</td>\n",
       "    </tr>\n",
       "    <tr>\n",
       "      <th>8</th>\n",
       "      <td>Data Engineer: Data Integration</td>\n",
       "      <td>3.97</td>\n",
       "    </tr>\n",
       "    <tr>\n",
       "      <th>9</th>\n",
       "      <td>Big Data Engineer</td>\n",
       "      <td>3.62</td>\n",
       "    </tr>\n",
       "    <tr>\n",
       "      <th>0</th>\n",
       "      <td>Data Engineer</td>\n",
       "      <td>3.53</td>\n",
       "    </tr>\n",
       "    <tr>\n",
       "      <th>1</th>\n",
       "      <td>Data Scientist</td>\n",
       "      <td>3.43</td>\n",
       "    </tr>\n",
       "    <tr>\n",
       "      <th>4</th>\n",
       "      <td>Business Analyst</td>\n",
       "      <td>2.64</td>\n",
       "    </tr>\n",
       "    <tr>\n",
       "      <th>2</th>\n",
       "      <td>Data Analyst</td>\n",
       "      <td>2.55</td>\n",
       "    </tr>\n",
       "  </tbody>\n",
       "</table>\n",
       "</div>"
      ],
      "text/plain": [
       "                                    Jobs  Average Min. Exp\n",
       "3  Senior Technical Lead (Data Engineer)              4.99\n",
       "5                   Senior Data Engineer              4.65\n",
       "6                  Senior Data Scientist              4.65\n",
       "7                    Azure Data Engineer              4.12\n",
       "8        Data Engineer: Data Integration              3.97\n",
       "9                      Big Data Engineer              3.62\n",
       "0                          Data Engineer              3.53\n",
       "1                         Data Scientist              3.43\n",
       "4                       Business Analyst              2.64\n",
       "2                           Data Analyst              2.55"
      ]
     },
     "execution_count": 22,
     "metadata": {},
     "output_type": "execute_result"
    }
   ],
   "source": [
    "# Average Minimum Job Experience Required Top Jobs\n",
    "job_list = df['Job_Role'].value_counts().iloc[:10].index.tolist()  \n",
    "exp = [round(df[df['Job_Role']==job]['Min. Exp.'].mean(),2) for job in job_list]\n",
    "\n",
    "df_job=pd.DataFrame({'Jobs':job_list, 'Average Min. Exp':exp})\n",
    "df_job=df_job.sort_values('Average Min. Exp', ascending=False)\n",
    "df_job"
   ]
  },
  {
   "cell_type": "code",
   "execution_count": 23,
   "id": "28b19af0",
   "metadata": {
    "execution": {
     "iopub.execute_input": "2022-05-18T11:14:45.706679Z",
     "iopub.status.busy": "2022-05-18T11:14:45.705863Z",
     "iopub.status.idle": "2022-05-18T11:14:45.718596Z",
     "shell.execute_reply": "2022-05-18T11:14:45.718004Z"
    },
    "papermill": {
     "duration": 0.053213,
     "end_time": "2022-05-18T11:14:45.720274",
     "exception": false,
     "start_time": "2022-05-18T11:14:45.667061",
     "status": "completed"
    },
    "tags": []
   },
   "outputs": [
    {
     "data": {
      "text/html": [
       "<div>\n",
       "<style scoped>\n",
       "    .dataframe tbody tr th:only-of-type {\n",
       "        vertical-align: middle;\n",
       "    }\n",
       "\n",
       "    .dataframe tbody tr th {\n",
       "        vertical-align: top;\n",
       "    }\n",
       "\n",
       "    .dataframe thead th {\n",
       "        text-align: right;\n",
       "    }\n",
       "</style>\n",
       "<table border=\"1\" class=\"dataframe\">\n",
       "  <thead>\n",
       "    <tr style=\"text-align: right;\">\n",
       "      <th></th>\n",
       "      <th>Job_Role</th>\n",
       "      <th>Company</th>\n",
       "      <th>Location</th>\n",
       "      <th>Job Experience</th>\n",
       "      <th>Skills/Description</th>\n",
       "      <th>Min. Exp.</th>\n",
       "      <th>Max. Exp.</th>\n",
       "    </tr>\n",
       "  </thead>\n",
       "  <tbody>\n",
       "    <tr>\n",
       "      <th>8608</th>\n",
       "      <td>Sr. Principal/Director Solution Architect</td>\n",
       "      <td>IHS Markit</td>\n",
       "      <td>Gurgaon/Gurugram</td>\n",
       "      <td>25-27</td>\n",
       "      <td>Computer science, Solution architecture, PDF, ...</td>\n",
       "      <td>25</td>\n",
       "      <td>27</td>\n",
       "    </tr>\n",
       "  </tbody>\n",
       "</table>\n",
       "</div>"
      ],
      "text/plain": [
       "                                       Job_Role     Company          Location  \\\n",
       "8608  Sr. Principal/Director Solution Architect  IHS Markit  Gurgaon/Gurugram   \n",
       "\n",
       "     Job Experience                                 Skills/Description  \\\n",
       "8608          25-27  Computer science, Solution architecture, PDF, ...   \n",
       "\n",
       "      Min. Exp.  Max. Exp.  \n",
       "8608         25         27  "
      ]
     },
     "execution_count": 23,
     "metadata": {},
     "output_type": "execute_result"
    }
   ],
   "source": [
    "# job with highest requirement of minimum experience\n",
    "df[df['Min. Exp.']==df['Min. Exp.'].max()]"
   ]
  },
  {
   "cell_type": "markdown",
   "id": "9165a99a",
   "metadata": {
    "papermill": {
     "duration": 0.035521,
     "end_time": "2022-05-18T11:14:45.791538",
     "exception": false,
     "start_time": "2022-05-18T11:14:45.756017",
     "status": "completed"
    },
    "tags": []
   },
   "source": [
    "Work in progress...\n",
    "\n",
    "Please upvote if you like the work :)"
   ]
  },
  {
   "cell_type": "code",
   "execution_count": null,
   "id": "bcde341b",
   "metadata": {
    "papermill": {
     "duration": 0.036224,
     "end_time": "2022-05-18T11:14:45.866962",
     "exception": false,
     "start_time": "2022-05-18T11:14:45.830738",
     "status": "completed"
    },
    "tags": []
   },
   "outputs": [],
   "source": []
  },
  {
   "cell_type": "code",
   "execution_count": null,
   "id": "845ae210",
   "metadata": {
    "papermill": {
     "duration": 0.035255,
     "end_time": "2022-05-18T11:14:45.938060",
     "exception": false,
     "start_time": "2022-05-18T11:14:45.902805",
     "status": "completed"
    },
    "tags": []
   },
   "outputs": [],
   "source": []
  }
 ],
 "metadata": {
  "kernelspec": {
   "display_name": "Python 3",
   "language": "python",
   "name": "python3"
  },
  "language_info": {
   "codemirror_mode": {
    "name": "ipython",
    "version": 3
   },
   "file_extension": ".py",
   "mimetype": "text/x-python",
   "name": "python",
   "nbconvert_exporter": "python",
   "pygments_lexer": "ipython3",
   "version": "3.7.12"
  },
  "papermill": {
   "default_parameters": {},
   "duration": 18.658689,
   "end_time": "2022-05-18T11:14:47.197444",
   "environment_variables": {},
   "exception": null,
   "input_path": "__notebook__.ipynb",
   "output_path": "__notebook__.ipynb",
   "parameters": {},
   "start_time": "2022-05-18T11:14:28.538755",
   "version": "2.3.4"
  }
 },
 "nbformat": 4,
 "nbformat_minor": 5
}
